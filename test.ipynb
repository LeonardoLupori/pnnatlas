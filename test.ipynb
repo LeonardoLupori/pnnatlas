{
 "cells": [
  {
   "cell_type": "code",
   "execution_count": null,
   "metadata": {},
   "outputs": [],
   "source": [
    "import matplotlib.pyplot as plt\n",
    "# from matplotlib.colors import Colormap, ListedColormap\n",
    "\n",
    "import copy\n",
    "import seaborn as sns\n",
    "import pandas as pd\n",
    "import numpy as np"
   ]
  },
  {
   "cell_type": "code",
   "execution_count": null,
   "metadata": {},
   "outputs": [],
   "source": []
  }
 ],
 "metadata": {
  "interpreter": {
   "hash": "259a6d228bef4ac2b4d3c495b10afcf363ca52ddebd1bd03c03d073a07d068b3"
  },
  "kernelspec": {
   "display_name": "Python 3.7.9 ('wholeBrain')",
   "language": "python",
   "name": "python3"
  },
  "language_info": {
   "name": "python",
   "version": "3.7.9"
  },
  "orig_nbformat": 4
 },
 "nbformat": 4,
 "nbformat_minor": 2
}
