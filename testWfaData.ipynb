{
 "cells": [
  {
   "cell_type": "code",
   "execution_count": 1,
   "metadata": {},
   "outputs": [],
   "source": [
    "import pandas as pd\n",
    "from utils import dataManager as dm\n",
    "from utils import callbackFunctions as cf\n",
    "\n",
    "\n",
    "# # To autoreload modules\n",
    "# %load_ext autoreload\n",
    "# %autoreload 2\n",
    "\n",
    "structuresDf = cf.loadStructuresDf('data/structures.json')\n"
   ]
  },
  {
   "cell_type": "code",
   "execution_count": 2,
   "metadata": {},
   "outputs": [],
   "source": [
    "dataPath = \".\\data\\originalData\\data_SD1.xlsx\"\n",
    "wfa = dm.readMetricsDataForGenes(dataPath)\n",
    "\n",
    "dataPath = \".\\data\\originalData\\data_SD2.xlsx\"\n",
    "pv = dm.readMetricsDataForGenes(dataPath)"
   ]
  },
  {
   "cell_type": "code",
   "execution_count": 3,
   "metadata": {},
   "outputs": [],
   "source": [
    "# LOAD GENE EXPRESSION DATA\n",
    "dataPath = \".\\data\\gene_expression_ABA_energy.csv\"\n",
    "ish_en =  pd.read_csv(dataPath, index_col=0)\n",
    "ish_en.columns = pd.to_numeric(ish_en.columns)\n",
    "\n",
    "selMetric = wfa['energy']\n",
    "ishData = ish_en\n",
    "\n",
    "dataPath = \".\\data\\originalData\\data_SD4.xlsx\"\n",
    "geneCorrData = pd.read_excel(dataPath, header=0, index_col=0)"
   ]
  },
  {
   "cell_type": "code",
   "execution_count": 14,
   "metadata": {},
   "outputs": [
    {
     "data": {
      "text/plain": [
       "'aggrecan'"
      ]
     },
     "execution_count": 14,
     "metadata": {},
     "output_type": "execute_result"
    }
   ],
   "source": [
    "selGene = 11382\n",
    "g = geneCorrData.loc[geneCorrData['gene_AGEA_id']==selGene]\n",
    "g.iloc[0]['gene_name']"
   ]
  },
  {
   "cell_type": "code",
   "execution_count": 4,
   "metadata": {},
   "outputs": [
    {
     "ename": "NameError",
     "evalue": "name 'selGene' is not defined",
     "output_type": "error",
     "traceback": [
      "\u001b[1;31m---------------------------------------------------------------------------\u001b[0m",
      "\u001b[1;31mNameError\u001b[0m                                 Traceback (most recent call last)",
      "Cell \u001b[1;32mIn[4], line 1\u001b[0m\n\u001b[1;32m----> 1\u001b[0m g \u001b[39m=\u001b[39m geneCorrData\u001b[39m.\u001b[39mloc[geneCorrData[\u001b[39m'\u001b[39m\u001b[39mgene_AGEA_id\u001b[39m\u001b[39m'\u001b[39m]\u001b[39m==\u001b[39mselGene]\n\u001b[0;32m      3\u001b[0m g \u001b[39m=\u001b[39m g\u001b[39m.\u001b[39mT\u001b[39m.\u001b[39mreset_index()\n\u001b[0;32m      4\u001b[0m g\u001b[39m.\u001b[39mcolumns \u001b[39m=\u001b[39m [\u001b[39m'\u001b[39m\u001b[39mParameter\u001b[39m\u001b[39m'\u001b[39m, \u001b[39m'\u001b[39m\u001b[39mValue\u001b[39m\u001b[39m'\u001b[39m]\n",
      "\u001b[1;31mNameError\u001b[0m: name 'selGene' is not defined"
     ]
    }
   ],
   "source": [
    "g = geneCorrData.loc[geneCorrData['gene_AGEA_id']==selGene]\n",
    "\n",
    "g = g.T.reset_index()\n",
    "g.columns = ['Parameter', 'Value']\n",
    "g"
   ]
  },
  {
   "cell_type": "code",
   "execution_count": 77,
   "metadata": {},
   "outputs": [
    {
     "data": {
      "text/html": [
       "<div>\n",
       "<style scoped>\n",
       "    .dataframe tbody tr th:only-of-type {\n",
       "        vertical-align: middle;\n",
       "    }\n",
       "\n",
       "    .dataframe tbody tr th {\n",
       "        vertical-align: top;\n",
       "    }\n",
       "\n",
       "    .dataframe thead th {\n",
       "        text-align: right;\n",
       "    }\n",
       "</style>\n",
       "<table border=\"1\" class=\"dataframe\">\n",
       "  <thead>\n",
       "    <tr style=\"text-align: right;\">\n",
       "      <th></th>\n",
       "      <th></th>\n",
       "      <th>metric</th>\n",
       "      <th>geneExp</th>\n",
       "      <th>acronym</th>\n",
       "      <th>name</th>\n",
       "      <th>rgb_plotly</th>\n",
       "    </tr>\n",
       "    <tr>\n",
       "      <th>coarse</th>\n",
       "      <th>mid</th>\n",
       "      <th></th>\n",
       "      <th></th>\n",
       "      <th></th>\n",
       "      <th></th>\n",
       "      <th></th>\n",
       "    </tr>\n",
       "  </thead>\n",
       "  <tbody>\n",
       "    <tr>\n",
       "      <th rowspan=\"5\" valign=\"top\">315</th>\n",
       "      <th>184</th>\n",
       "      <td>1.178936</td>\n",
       "      <td>0.337825</td>\n",
       "      <td>FRP</td>\n",
       "      <td>Frontal pole, cerebral cortex</td>\n",
       "      <td>rgb(38,143,69)</td>\n",
       "    </tr>\n",
       "    <tr>\n",
       "      <th>985</th>\n",
       "      <td>1.185993</td>\n",
       "      <td>0.115369</td>\n",
       "      <td>MOp</td>\n",
       "      <td>Primary motor area</td>\n",
       "      <td>rgb(31,157,90)</td>\n",
       "    </tr>\n",
       "    <tr>\n",
       "      <th>993</th>\n",
       "      <td>0.960004</td>\n",
       "      <td>0.083421</td>\n",
       "      <td>MOs</td>\n",
       "      <td>Secondary motor area</td>\n",
       "      <td>rgb(31,157,90)</td>\n",
       "    </tr>\n",
       "    <tr>\n",
       "      <th>353</th>\n",
       "      <td>2.884739</td>\n",
       "      <td>0.215506</td>\n",
       "      <td>SSp-n</td>\n",
       "      <td>Primary somatosensory area, nose</td>\n",
       "      <td>rgb(24,128,100)</td>\n",
       "    </tr>\n",
       "    <tr>\n",
       "      <th>329</th>\n",
       "      <td>2.445807</td>\n",
       "      <td>0.279295</td>\n",
       "      <td>SSp-bfd</td>\n",
       "      <td>Primary somatosensory area, barrel field</td>\n",
       "      <td>rgb(24,128,100)</td>\n",
       "    </tr>\n",
       "    <tr>\n",
       "      <th>...</th>\n",
       "      <th>...</th>\n",
       "      <td>...</td>\n",
       "      <td>...</td>\n",
       "      <td>...</td>\n",
       "      <td>...</td>\n",
       "      <td>...</td>\n",
       "    </tr>\n",
       "    <tr>\n",
       "      <th rowspan=\"5\" valign=\"top\">512</th>\n",
       "      <th>1049</th>\n",
       "      <td>0.062824</td>\n",
       "      <td>0.102786</td>\n",
       "      <td>FL</td>\n",
       "      <td>Flocculus</td>\n",
       "      <td>rgb(255,252,145)</td>\n",
       "    </tr>\n",
       "    <tr>\n",
       "      <th>989</th>\n",
       "      <td>3.975008</td>\n",
       "      <td>1.280930</td>\n",
       "      <td>FN</td>\n",
       "      <td>Fastigial nucleus</td>\n",
       "      <td>rgb(255,253,188)</td>\n",
       "    </tr>\n",
       "    <tr>\n",
       "      <th>91</th>\n",
       "      <td>4.722340</td>\n",
       "      <td>1.789552</td>\n",
       "      <td>IP</td>\n",
       "      <td>Interposed nucleus</td>\n",
       "      <td>rgb(255,253,188)</td>\n",
       "    </tr>\n",
       "    <tr>\n",
       "      <th>846</th>\n",
       "      <td>4.308272</td>\n",
       "      <td>1.421883</td>\n",
       "      <td>DN</td>\n",
       "      <td>Dentate nucleus</td>\n",
       "      <td>rgb(255,253,188)</td>\n",
       "    </tr>\n",
       "    <tr>\n",
       "      <th>589508455</th>\n",
       "      <td>2.633070</td>\n",
       "      <td>NaN</td>\n",
       "      <td>VeCB</td>\n",
       "      <td>Vestibulocerebellar nucleus</td>\n",
       "      <td>rgb(255,253,188)</td>\n",
       "    </tr>\n",
       "  </tbody>\n",
       "</table>\n",
       "<p>314 rows × 5 columns</p>\n",
       "</div>"
      ],
      "text/plain": [
       "                    metric   geneExp  acronym  \\\n",
       "coarse mid                                      \n",
       "315    184        1.178936  0.337825      FRP   \n",
       "       985        1.185993  0.115369      MOp   \n",
       "       993        0.960004  0.083421      MOs   \n",
       "       353        2.884739  0.215506    SSp-n   \n",
       "       329        2.445807  0.279295  SSp-bfd   \n",
       "...                    ...       ...      ...   \n",
       "512    1049       0.062824  0.102786       FL   \n",
       "       989        3.975008  1.280930       FN   \n",
       "       91         4.722340  1.789552       IP   \n",
       "       846        4.308272  1.421883       DN   \n",
       "       589508455  2.633070       NaN     VeCB   \n",
       "\n",
       "                                                      name        rgb_plotly  \n",
       "coarse mid                                                                    \n",
       "315    184                   Frontal pole, cerebral cortex    rgb(38,143,69)  \n",
       "       985                              Primary motor area    rgb(31,157,90)  \n",
       "       993                            Secondary motor area    rgb(31,157,90)  \n",
       "       353                Primary somatosensory area, nose   rgb(24,128,100)  \n",
       "       329        Primary somatosensory area, barrel field   rgb(24,128,100)  \n",
       "...                                                    ...               ...  \n",
       "512    1049                                      Flocculus  rgb(255,252,145)  \n",
       "       989                               Fastigial nucleus  rgb(255,253,188)  \n",
       "       91                               Interposed nucleus  rgb(255,253,188)  \n",
       "       846                                 Dentate nucleus  rgb(255,253,188)  \n",
       "       589508455               Vestibulocerebellar nucleus  rgb(255,253,188)  \n",
       "\n",
       "[314 rows x 5 columns]"
      ]
     },
     "execution_count": 77,
     "metadata": {},
     "output_type": "execute_result"
    }
   ],
   "source": [
    "selGene = 11382\n",
    "\n",
    "\n",
    "metricDf = pd.DataFrame(wfa['energy'])\n",
    "metricDf.columns=['metric']\n",
    "metric = metricDf.reset_index()\n",
    "\n",
    "ishData.index.name = 'mid'\n",
    "ish = pd.DataFrame(ishData.loc[selGene])\n",
    "ish.columns = ['geneExp']\n",
    "\n",
    "merged = metric.join(ish, on='mid')\n",
    "\n",
    "structureDf = cf.loadStructuresDf('data/structures.json')\n",
    "structureDf = structureDf[['acronym', 'name', 'rgb_plotly']]\n",
    "merged = merged.join(structureDf, on='mid')\n",
    "\n",
    "merged = merged.set_index(['coarse','mid'])\n",
    "\n",
    "merged = merged.drop(1009, level='mid')\n",
    "\n",
    "merged"
   ]
  },
  {
   "cell_type": "code",
   "execution_count": 87,
   "metadata": {},
   "outputs": [
    {
     "data": {
      "application/vnd.plotly.v1+json": {
       "config": {
        "plotlyServerURL": "https://plot.ly"
       },
       "data": [
        {
         "customdata": [
          [
           "Lingula (I)",
           "LING"
          ],
          [
           "Central lobule",
           "CENT"
          ],
          [
           "Culmen",
           "CUL"
          ],
          [
           "Declive (VI)",
           "DEC"
          ],
          [
           "Folium-tuber vermis (VII)",
           "FOTU"
          ],
          [
           "Pyramus (VIII)",
           "PYR"
          ],
          [
           "Uvula (IX)",
           "UVU"
          ],
          [
           "Nodulus (X)",
           "NOD"
          ],
          [
           "Simple lobule",
           "SIM"
          ],
          [
           "Ansiform lobule",
           "AN"
          ],
          [
           "Paramedian lobule",
           "PRM"
          ],
          [
           "Copula pyramidis",
           "COPY"
          ],
          [
           "Paraflocculus",
           "PFL"
          ],
          [
           "Flocculus",
           "FL"
          ],
          [
           "Fastigial nucleus",
           "FN"
          ],
          [
           "Interposed nucleus",
           "IP"
          ],
          [
           "Dentate nucleus",
           "DN"
          ],
          [
           "Vestibulocerebellar nucleus",
           "VeCB"
          ]
         ],
         "hovertemplate": "<b>%{customdata[1]}</b><br><i>%{customdata[0]}</i><br>Cerebellum<br><b>Staining Metric</b>:%{x:.3f}<br><b>Gene Expression</b>:%{y:.3f}<extra></extra>",
         "marker": {
          "color": [
           "rgb(255,252,145)",
           "rgb(255,252,145)",
           "rgb(255,252,145)",
           "rgb(255,252,145)",
           "rgb(255,252,145)",
           "rgb(255,252,145)",
           "rgb(255,252,145)",
           "rgb(255,252,145)",
           "rgb(255,252,145)",
           "rgb(255,252,145)",
           "rgb(255,252,145)",
           "rgb(255,252,145)",
           "rgb(255,252,145)",
           "rgb(255,252,145)",
           "rgb(255,253,188)",
           "rgb(255,253,188)",
           "rgb(255,253,188)",
           "rgb(255,253,188)"
          ],
          "line": {
           "width": 1
          },
          "opacity": 0.85,
          "size": 13
         },
         "mode": "markers",
         "name": "Cerebellum",
         "type": "scatter",
         "x": [
          0.1072731533333333,
          0.115638,
          0.0882479666666666,
          0.0496153366666666,
          0.0580283,
          0.1117759333333333,
          0.1719516333333333,
          0.408397,
          0.0804690333333333,
          0.0641125,
          0.1196898,
          0.307936,
          0.0619152,
          0.1027861,
          1.2809303333333333,
          1.7895516666666669,
          1.4218833333333334,
          null
         ],
         "y": [
          0.06644338379343603,
          0.1090203218066347,
          0.1126227676204613,
          0.03211439688502012,
          0.02052445480712799,
          0.05328043052737254,
          0.05763171516644535,
          0.09173839380535288,
          0.05906908270697177,
          0.03679485215015073,
          0.1159142761768763,
          0.1713555388509915,
          0.05762337187606586,
          0.06282375643523633,
          3.975008482200949,
          4.722340332249935,
          4.308272038742516,
          2.633070424486329
         ]
        },
        {
         "customdata": [
          [
           "Claustrum",
           "CLA"
          ],
          [
           "Endopiriform nucleus, dorsal part",
           "EPd"
          ],
          [
           "Endopiriform nucleus, ventral part",
           "EPv"
          ],
          [
           "Lateral amygdalar nucleus",
           "LA"
          ],
          [
           "Basolateral amygdalar nucleus",
           "BLA"
          ],
          [
           "Basomedial amygdalar nucleus",
           "BMA"
          ],
          [
           "Posterior amygdalar nucleus",
           "PA"
          ]
         ],
         "hovertemplate": "<b>%{customdata[1]}</b><br><i>%{customdata[0]}</i><br>Cortical subplate<br><b>Staining Metric</b>:%{x:.3f}<br><b>Gene Expression</b>:%{y:.3f}<extra></extra>",
         "marker": {
          "color": [
           "rgb(138,218,135)",
           "rgb(160,238,157)",
           "rgb(160,238,157)",
           "rgb(144,235,141)",
           "rgb(157,231,156)",
           "rgb(132,234,129)",
           "rgb(151,236,147)"
          ],
          "line": {
           "width": 1
          },
          "opacity": 0.85,
          "size": 13
         },
         "mode": "markers",
         "name": "Cortical subplate",
         "type": "scatter",
         "x": [
          0.0261659633333333,
          0.0348636666666666,
          0.03977688,
          0.1008197666666666,
          0.0596170566666666,
          0.0497218666666666,
          0.0511805566666666
         ],
         "y": [
          0.525982096685456,
          0.2996746021565645,
          0.2007631122462251,
          0.1634824860647746,
          0.1808516652956688,
          0.2287213469337815,
          0.5136537451072736
         ]
        },
        {
         "customdata": [
          [
           "Field CA1",
           "CA1"
          ],
          [
           "Field CA2",
           "CA2"
          ],
          [
           "Field CA3",
           "CA3"
          ],
          [
           "Dentate gyrus",
           "DG"
          ],
          [
           "Fasciola cinerea",
           "FC"
          ],
          [
           "Induseum griseum",
           "IG"
          ],
          [
           "Entorhinal area, lateral part",
           "ENTl"
          ],
          [
           "Entorhinal area, medial part, dorsal zone",
           "ENTm"
          ],
          [
           "Parasubiculum",
           "PAR"
          ],
          [
           "Postsubiculum",
           "POST"
          ],
          [
           "Presubiculum",
           "PRE"
          ],
          [
           "Subiculum",
           "SUB"
          ],
          [
           "Prosubiculum",
           "ProS"
          ],
          [
           "Hippocampo-amygdalar transition area",
           "HATA"
          ],
          [
           "Area prostriata",
           "APr"
          ]
         ],
         "hovertemplate": "<b>%{customdata[1]}</b><br><i>%{customdata[0]}</i><br>Hippocampal formation<br><b>Staining Metric</b>:%{x:.3f}<br><b>Gene Expression</b>:%{y:.3f}<extra></extra>",
         "marker": {
          "color": [
           "rgb(126,208,75)",
           "rgb(126,208,75)",
           "rgb(126,208,75)",
           "rgb(126,208,75)",
           "rgb(126,208,75)",
           "rgb(126,208,75)",
           "rgb(50,184,37)",
           "rgb(50,184,37)",
           "rgb(114,213,105)",
           "rgb(72,200,60)",
           "rgb(89,185,71)",
           "rgb(79,194,68)",
           "rgb(88,186,72)",
           "rgb(51,185,50)",
           "rgb(51,185,50)"
          ],
          "line": {
           "width": 1
          },
          "opacity": 0.85,
          "size": 13
         },
         "mode": "markers",
         "name": "Hippocampal formation",
         "type": "scatter",
         "x": [
          0.0806311666666666,
          0.2347723333333333,
          0.1594493333333333,
          0.1288934,
          0.6125933333333333,
          0.32633444,
          0.0520411,
          0.0894953333333333,
          0.1157392666666666,
          0.1097712666666666,
          0.1369296333333333,
          0.0459285333333333,
          null,
          null,
          null
         ],
         "y": [
          0.70326953230221,
          1.27989922006268,
          0.5770769801309922,
          0.2255832829682067,
          3.826227292788379,
          1.289760889614298,
          0.4832039348754689,
          1.016595882311683,
          1.515341806097757,
          2.118014706185535,
          1.399101140624331,
          1.465671426155418,
          1.089212149110191,
          0.4989986536586449,
          1.031410420578875
         ]
        },
        {
         "customdata": [
          [
           "Supraoptic nucleus",
           "SO"
          ],
          [
           "Accessory supraoptic group",
           "ASO"
          ],
          [
           "Paraventricular hypothalamic nucleus",
           "PVH"
          ],
          [
           "Periventricular hypothalamic nucleus, anterior part",
           "PVa"
          ],
          [
           "Periventricular hypothalamic nucleus, intermediate part",
           "PVi"
          ],
          [
           "Arcuate hypothalamic nucleus",
           "ARH"
          ],
          [
           "Anterodorsal preoptic nucleus",
           "ADP"
          ],
          [
           "Anteroventral preoptic nucleus",
           "AVP"
          ],
          [
           "Anteroventral periventricular nucleus",
           "AVPV"
          ],
          [
           "Dorsomedial nucleus of the hypothalamus",
           "DMH"
          ],
          [
           "Median preoptic nucleus",
           "MEPO"
          ],
          [
           "Medial preoptic area",
           "MPO"
          ],
          [
           "Vascular organ of the lamina terminalis",
           "OV"
          ],
          [
           "Posterodorsal preoptic nucleus",
           "PD"
          ],
          [
           "Parastrial nucleus",
           "PS"
          ],
          [
           "Periventricular hypothalamic nucleus, posterior part",
           "PVp"
          ],
          [
           "Periventricular hypothalamic nucleus, preoptic part",
           "PVpo"
          ],
          [
           "Subparaventricular zone",
           "SBPV"
          ],
          [
           "Suprachiasmatic nucleus",
           "SCH"
          ],
          [
           "Subfornical organ",
           "SFO"
          ],
          [
           "Ventromedial preoptic nucleus",
           "VMPO"
          ],
          [
           "Ventrolateral preoptic nucleus",
           "VLPO"
          ],
          [
           "Anterior hypothalamic nucleus",
           "AHN"
          ],
          [
           "Lateral mammillary nucleus",
           "LM"
          ],
          [
           "Medial mammillary nucleus",
           "MM"
          ],
          [
           "Supramammillary nucleus",
           "SUM"
          ],
          [
           "Tuberomammillary nucleus, dorsal part",
           "TMd"
          ],
          [
           "Tuberomammillary nucleus, ventral part",
           "TMv"
          ],
          [
           "Medial preoptic nucleus",
           "MPN"
          ],
          [
           "Dorsal premammillary nucleus",
           "PMd"
          ],
          [
           "Ventral premammillary nucleus",
           "PMv"
          ],
          [
           "Paraventricular hypothalamic nucleus, descending division",
           "PVHd"
          ],
          [
           "Ventromedial hypothalamic nucleus",
           "VMH"
          ],
          [
           "Posterior hypothalamic nucleus",
           "PH"
          ],
          [
           "Lateral hypothalamic area",
           "LHA"
          ],
          [
           "Lateral preoptic area",
           "LPO"
          ],
          [
           "Preparasubthalamic nucleus",
           "PST"
          ],
          [
           "Parasubthalamic nucleus",
           "PSTN"
          ],
          [
           "Perifornical nucleus",
           "PeF"
          ],
          [
           "Retrochiasmatic area",
           "RCH"
          ],
          [
           "Subthalamic nucleus",
           "STN"
          ],
          [
           "Tuberal nucleus",
           "TU"
          ],
          [
           "Zona incerta",
           "ZI"
          ],
          [
           "Median eminence",
           "ME"
          ]
         ],
         "hovertemplate": "<b>%{customdata[1]}</b><br><i>%{customdata[0]}</i><br>Hypothalamus<br><b>Staining Metric</b>:%{x:.3f}<br><b>Gene Expression</b>:%{y:.3f}<extra></extra>",
         "marker": {
          "color": [
           "rgb(255,93,80)",
           "rgb(255,93,80)",
           "rgb(255,93,80)",
           "rgb(255,93,80)",
           "rgb(255,93,80)",
           "rgb(255,93,80)",
           "rgb(255,85,71)",
           "rgb(255,85,71)",
           "rgb(255,85,71)",
           "rgb(255,85,71)",
           "rgb(255,85,71)",
           "rgb(255,85,71)",
           "rgb(255,85,71)",
           "rgb(255,85,71)",
           "rgb(255,85,71)",
           "rgb(255,85,71)",
           "rgb(255,85,71)",
           "rgb(255,85,71)",
           "rgb(255,85,71)",
           "rgb(255,85,71)",
           "rgb(255,85,71)",
           "rgb(255,85,71)",
           "rgb(255,76,62)",
           "rgb(255,76,62)",
           "rgb(255,76,62)",
           "rgb(255,76,62)",
           "rgb(255,76,62)",
           "rgb(255,76,62)",
           "rgb(255,76,62)",
           "rgb(255,76,62)",
           "rgb(255,76,62)",
           "rgb(255,76,62)",
           "rgb(255,76,62)",
           "rgb(255,76,62)",
           "rgb(242,72,59)",
           "rgb(242,72,59)",
           "rgb(242,72,59)",
           "rgb(242,72,59)",
           "rgb(242,72,59)",
           "rgb(242,72,59)",
           "rgb(242,72,59)",
           "rgb(242,72,59)",
           "rgb(242,72,59)",
           "rgb(242,72,59)"
          ],
          "line": {
           "width": 1
          },
          "opacity": 0.85,
          "size": 13
         },
         "mode": "markers",
         "name": "Hypothalamus",
         "type": "scatter",
         "x": [
          0.0669165333333333,
          null,
          0.0317020314466666,
          null,
          0.0337437733333333,
          0.0382875856666666,
          0.011144641979,
          0.0081665270666666,
          0.0075763062979999,
          0.0396805766666666,
          0.0155526,
          0.02697392,
          0.0044430566666666,
          0.0250127333333333,
          0.0107231299999999,
          0.0567103999999999,
          0.0341297,
          0.0186030149543666,
          0.0108123073333333,
          0.0327226133333333,
          null,
          0.0182695366666666,
          0.0375096496666666,
          0.2314112533333333,
          0.01735255,
          0.0347032153333333,
          0.02242561,
          0.091919934,
          0.0236850913333333,
          0.0338139513333333,
          0.0382363766666666,
          0.0453521,
          0.0208602066666666,
          0.0449416629999999,
          0.0630183666666666,
          0.0334330333333333,
          null,
          0.0395933823333333,
          null,
          0.0400035333333333,
          0.0860819766666666,
          0.0311301466666666,
          0.15267924,
          0.0424833931666666
         ],
         "y": [
          0.07329931919505131,
          0.5857099602892026,
          0.4227840243070689,
          0.06091751762779322,
          0.059868486711466,
          2.633435645256106,
          0.1785527501724225,
          0.378431334178735,
          0.1728123023938516,
          0.2414364227465838,
          0.1668183162522534,
          0.3039775017740703,
          0.03399427610556983,
          0.08504991076734723,
          0.1778365185357352,
          0.2441638609382509,
          0.00712405941831603,
          0.1149588552000704,
          0.06764440566472145,
          0,
          0.02297631741235148,
          0.09180274626066191,
          0.3297198258226586,
          8.706603327476058,
          1.730364613833904,
          1.039038639098654,
          0.0354409253753745,
          0.4304365694011801,
          0.1375821039873622,
          0.3431540352101474,
          0.2160293898947838,
          0.1124821989025646,
          0.5419355719524952,
          0.2499663083200472,
          0.6102740041152908,
          0.4311797954029111,
          0.2890423272916863,
          0.2939188546695415,
          0.4463680981044097,
          0.2300960472849312,
          0.8042064406858611,
          0.3110244004254591,
          2.01871342819713,
          0.4117158457961088
         ]
        },
        {
         "customdata": [
          [
           "Frontal pole, cerebral cortex",
           "FRP"
          ],
          [
           "Primary motor area",
           "MOp"
          ],
          [
           "Secondary motor area",
           "MOs"
          ],
          [
           "Primary somatosensory area, nose",
           "SSp-n"
          ],
          [
           "Primary somatosensory area, barrel field",
           "SSp-bfd"
          ],
          [
           "Primary somatosensory area, lower limb",
           "SSp-ll"
          ],
          [
           "Primary somatosensory area, mouth",
           "SSp-m"
          ],
          [
           "Primary somatosensory area, upper limb",
           "SSp-ul"
          ],
          [
           "Primary somatosensory area, trunk",
           "SSp-tr"
          ],
          [
           "Primary somatosensory area, unassigned",
           "SSp-un"
          ],
          [
           "Supplemental somatosensory area",
           "SSs"
          ],
          [
           "Gustatory areas",
           "GU"
          ],
          [
           "Visceral area",
           "VISC"
          ],
          [
           "Dorsal auditory area",
           "AUDd"
          ],
          [
           "Primary auditory area",
           "AUDp"
          ],
          [
           "Posterior auditory area",
           "AUDpo"
          ],
          [
           "Ventral auditory area",
           "AUDv"
          ],
          [
           "Anterolateral visual area",
           "VISal"
          ],
          [
           "Anteromedial visual area",
           "VISam"
          ],
          [
           "Lateral visual area",
           "VISl"
          ],
          [
           "Primary visual area",
           "VISp"
          ],
          [
           "Posterolateral visual area",
           "VISpl"
          ],
          [
           "posteromedial visual area",
           "VISpm"
          ],
          [
           "Laterointermediate area",
           "VISli"
          ],
          [
           "Postrhinal area",
           "VISpor"
          ],
          [
           "Anterior cingulate area, dorsal part",
           "ACAd"
          ],
          [
           "Anterior cingulate area, ventral part",
           "ACAv"
          ],
          [
           "Prelimbic area",
           "PL"
          ],
          [
           "Infralimbic area",
           "ILA"
          ],
          [
           "Orbital area, lateral part",
           "ORBl"
          ],
          [
           "Orbital area, medial part",
           "ORBm"
          ],
          [
           "Orbital area, ventrolateral part",
           "ORBvl"
          ],
          [
           "Agranular insular area, dorsal part",
           "AId"
          ],
          [
           "Agranular insular area, posterior part",
           "AIp"
          ],
          [
           "Agranular insular area, ventral part",
           "AIv"
          ],
          [
           "Retrosplenial area, lateral agranular part",
           "RSPagl"
          ],
          [
           "Retrosplenial area, dorsal part",
           "RSPd"
          ],
          [
           "Retrosplenial area, ventral part",
           "RSPv"
          ],
          [
           "Anterior area",
           "VISa"
          ],
          [
           "Rostrolateral visual area",
           "VISrl"
          ],
          [
           "Temporal association areas",
           "TEa"
          ],
          [
           "Perirhinal area",
           "PERI"
          ],
          [
           "Ectorhinal area",
           "ECT"
          ]
         ],
         "hovertemplate": "<b>%{customdata[1]}</b><br><i>%{customdata[0]}</i><br>Isocortex<br><b>Staining Metric</b>:%{x:.3f}<br><b>Gene Expression</b>:%{y:.3f}<extra></extra>",
         "marker": {
          "color": [
           "rgb(38,143,69)",
           "rgb(31,157,90)",
           "rgb(31,157,90)",
           "rgb(24,128,100)",
           "rgb(24,128,100)",
           "rgb(24,128,100)",
           "rgb(24,128,100)",
           "rgb(24,128,100)",
           "rgb(24,128,100)",
           "rgb(24,128,100)",
           "rgb(24,128,100)",
           "rgb(0,156,117)",
           "rgb(17,173,131)",
           "rgb(1,147,153)",
           "rgb(1,147,153)",
           "rgb(1,147,153)",
           "rgb(1,147,153)",
           "rgb(8,133,140)",
           "rgb(8,133,140)",
           "rgb(8,133,140)",
           "rgb(8,133,140)",
           "rgb(8,133,140)",
           "rgb(8,133,140)",
           "rgb(8,133,140)",
           "rgb(8,133,140)",
           "rgb(64,166,102)",
           "rgb(64,166,102)",
           "rgb(47,168,80)",
           "rgb(89,179,99)",
           "rgb(36,138,94)",
           "rgb(36,138,94)",
           "rgb(36,138,94)",
           "rgb(33,152,102)",
           "rgb(33,152,102)",
           "rgb(33,152,102)",
           "rgb(26,166,152)",
           "rgb(26,166,152)",
           "rgb(26,166,152)",
           "rgb(0,159,172)",
           "rgb(0,159,172)",
           "rgb(21,176,179)",
           "rgb(14,150,132)",
           "rgb(13,159,145)"
          ],
          "line": {
           "width": 1
          },
          "opacity": 0.85,
          "size": 13
         },
         "mode": "markers",
         "name": "Isocortex",
         "type": "scatter",
         "x": [
          0.3378249333333333,
          0.1153686,
          0.0834212333333333,
          0.215506,
          0.2792946666666667,
          0.1404717666666666,
          0.2688751666666667,
          0.1831636666666666,
          0.2238835,
          0.1645691333333333,
          0.1135024333333333,
          0.0386724333333333,
          0.04094736,
          0.0624321333333333,
          0.0601300766666666,
          0.1035626533333333,
          0.0441460606666666,
          0.1427066,
          0.3212303,
          0.0993526,
          0.1099861333333333,
          0.0941731666666666,
          0.1175438666666666,
          null,
          null,
          0.0637307666666666,
          0.1977753,
          0.1090886106666666,
          0.1954852666666666,
          0.1754033333333333,
          0.1760535,
          0.1850581666666666,
          0.0958053,
          0.0274142953666666,
          0.0169823666666666,
          0.0376414666666666,
          0.1334384666666666,
          0.1770477333333333,
          null,
          null,
          0.0687927666666666,
          0.05768914,
          0.0955010666666666
         ],
         "y": [
          1.178935792901021,
          1.185993199981976,
          0.9600037244791589,
          2.884738582417911,
          2.445807397110418,
          1.668637780326972,
          2.197432904572804,
          1.818018570203023,
          1.345628533839946,
          1.992275980627778,
          1.73707508155554,
          0.608244813473024,
          0.7105198313501602,
          1.392515985552304,
          1.644556739956807,
          1.086750450637899,
          0.9646590685731976,
          1.064878831700593,
          0.8964906986410315,
          1.269139484026297,
          1.747161908363972,
          0.923447701690858,
          0.9445934295031275,
          1.035551074915419,
          0.907432431599363,
          1.003412439658525,
          1.249290539060713,
          0.3883780486898811,
          0.2139479935043255,
          1.675620817585193,
          0.5044200252425527,
          1.167644246770297,
          0.6495134564068679,
          0.2740310430652773,
          0.6790517982455286,
          1.136530452309656,
          2.295789786806029,
          2.808699888753543,
          1.108848386944341,
          1.729800598889176,
          0.6731127789029304,
          0.5602783624655385,
          0.5466464524945279
         ]
        },
        {
         "customdata": [
          [
           "Area postrema",
           "AP"
          ],
          [
           "Dorsal cochlear nucleus",
           "DCO"
          ],
          [
           "Ventral cochlear nucleus",
           "VCO"
          ],
          [
           "Cuneate nucleus",
           "CU"
          ],
          [
           "Gracile nucleus",
           "GR"
          ],
          [
           "External cuneate nucleus",
           "ECU"
          ],
          [
           "Nucleus of the trapezoid body",
           "NTB"
          ],
          [
           "Nucleus of the solitary tract",
           "NTS"
          ],
          [
           "Spinal nucleus of the trigeminal, caudal part",
           "SPVC"
          ],
          [
           "Spinal nucleus of the trigeminal, interpolar part",
           "SPVI"
          ],
          [
           "Spinal nucleus of the trigeminal, oral part",
           "SPVO"
          ],
          [
           "Paratrigeminal nucleus",
           "Pa5"
          ],
          [
           "Abducens nucleus",
           "VI"
          ],
          [
           "Facial motor nucleus",
           "VII"
          ],
          [
           "Accessory facial motor nucleus",
           "ACVII"
          ],
          [
           "Nucleus ambiguus",
           "AMB"
          ],
          [
           "Dorsal motor nucleus of the vagus nerve",
           "DMX"
          ],
          [
           "Gigantocellular reticular nucleus",
           "GRN"
          ],
          [
           "Infracerebellar nucleus",
           "ICB"
          ],
          [
           "Inferior olivary complex",
           "IO"
          ],
          [
           "Intermediate reticular nucleus",
           "IRN"
          ],
          [
           "Inferior salivatory nucleus",
           "ISN"
          ],
          [
           "Linear nucleus of the medulla",
           "LIN"
          ],
          [
           "Lateral reticular nucleus",
           "LRN"
          ],
          [
           "Magnocellular reticular nucleus",
           "MARN"
          ],
          [
           "Medullary reticular nucleus, dorsal part",
           "MDRNd"
          ],
          [
           "Medullary reticular nucleus, ventral part",
           "MDRNv"
          ],
          [
           "Parvicellular reticular nucleus",
           "PARN"
          ],
          [
           "Parasolitary nucleus",
           "PAS"
          ],
          [
           "Paragigantocellular reticular nucleus, dorsal part",
           "PGRNd"
          ],
          [
           "Paragigantocellular reticular nucleus, lateral part",
           "PGRNl"
          ],
          [
           "Nucleus of Roller",
           "NR"
          ],
          [
           "Nucleus prepositus",
           "PRP"
          ],
          [
           "Parapyramidal nucleus",
           "PPY"
          ],
          [
           "Lateral vestibular nucleus",
           "LAV"
          ],
          [
           "Medial vestibular nucleus",
           "MV"
          ],
          [
           "Spinal vestibular nucleus",
           "SPIV"
          ],
          [
           "Superior vestibular nucleus",
           "SUV"
          ],
          [
           "Nucleus x",
           "x"
          ],
          [
           "Hypoglossal nucleus",
           "XII"
          ],
          [
           "Nucleus y",
           "y"
          ],
          [
           "Nucleus raphe magnus",
           "RM"
          ],
          [
           "Nucleus raphe pallidus",
           "RPA"
          ],
          [
           "Nucleus raphe obscurus",
           "RO"
          ]
         ],
         "hovertemplate": "<b>%{customdata[1]}</b><br><i>%{customdata[0]}</i><br>Medulla<br><b>Staining Metric</b>:%{x:.3f}<br><b>Gene Expression</b>:%{y:.3f}<extra></extra>",
         "marker": {
          "color": [
           "rgb(255,165,210)",
           "rgb(255,165,210)",
           "rgb(255,165,210)",
           "rgb(255,165,210)",
           "rgb(255,165,210)",
           "rgb(255,165,210)",
           "rgb(255,165,210)",
           "rgb(255,165,210)",
           "rgb(255,165,210)",
           "rgb(255,165,210)",
           "rgb(255,165,210)",
           "rgb(255,165,210)",
           "rgb(255,179,217)",
           "rgb(255,179,217)",
           "rgb(255,179,217)",
           "rgb(255,179,217)",
           "rgb(255,179,217)",
           "rgb(255,179,217)",
           "rgb(255,179,217)",
           "rgb(255,179,217)",
           "rgb(255,179,217)",
           "rgb(255,179,217)",
           "rgb(255,179,217)",
           "rgb(255,179,217)",
           "rgb(255,179,217)",
           "rgb(255,179,217)",
           "rgb(255,179,217)",
           "rgb(255,179,217)",
           "rgb(255,179,217)",
           "rgb(255,179,217)",
           "rgb(255,179,217)",
           "rgb(255,179,217)",
           "rgb(255,179,217)",
           "rgb(255,179,217)",
           "rgb(255,179,217)",
           "rgb(255,179,217)",
           "rgb(255,179,217)",
           "rgb(255,179,217)",
           "rgb(255,179,217)",
           "rgb(255,179,217)",
           "rgb(255,179,217)",
           "rgb(255,198,226)",
           "rgb(255,198,226)",
           "rgb(255,198,226)"
          ],
          "line": {
           "width": 1
          },
          "opacity": 0.85,
          "size": 13
         },
         "mode": "markers",
         "name": "Medulla",
         "type": "scatter",
         "x": [
          null,
          0.5542453333333334,
          0.4604236666666667,
          0.3972653333333333,
          0.1908197,
          1.1619296666666667,
          0.5377848403333333,
          0.5210353333333333,
          0.4557663333333333,
          0.884961,
          1.031522,
          null,
          0.2631079999999999,
          0.2961331,
          0.9242693333333332,
          0.254855,
          0.2838756666666666,
          0.686022,
          null,
          0.1172788,
          0.4535176666666667,
          0.749977,
          0.3306023333333333,
          0.1819343,
          0.2536521,
          0.366979,
          0.2927954333333333,
          0.6690656666666666,
          0.1755782666666666,
          0.4650449999999999,
          0.1673664333333333,
          null,
          0.3587336,
          0.020453068,
          1.7918573333333334,
          0.915275,
          1.925353333333333,
          1.0668749999999998,
          0.94115,
          0.3699756666666667,
          1.2585503333333334,
          0.5295347666666667,
          0.2363383666666666,
          0.07835594
         ],
         "y": [
          0,
          1.777470365761971,
          4.158601636482311,
          1.446908459410927,
          0,
          1.231685811150482,
          10.19471942718996,
          0.7362481355439671,
          1.73324229236256,
          3.797643234575707,
          2.983637370129366,
          0.274506858684252,
          2.378962668470253,
          0.7667281651619909,
          1.534170043640662,
          0.9402911273150696,
          0.809890566325287,
          1.781875960014249,
          1.685072406734111,
          1.631036414245356,
          1.333173835329092,
          0.8930037764213168,
          1.804518659470709,
          0.7106646467918568,
          1.85970461284491,
          1.464303409299449,
          2.968944591918492,
          2.040842246431748,
          2.210149440830269,
          1.229687965775878,
          1.020201370849776,
          1.680908241568472,
          1.766472093022109,
          1.689585250503192,
          2.860042036114069,
          3.196038982266919,
          1.453514210418811,
          7.915496711307908,
          0.8298052354975733,
          0.9261985104367374,
          3.309051773738183,
          1.894245326195546,
          0.6346982654125097,
          2.20640265158447
         ]
        },
        {
         "customdata": [
          [
           "Superior colliculus, sensory related",
           "SCs"
          ],
          [
           "Inferior colliculus",
           "IC"
          ],
          [
           "Nucleus of the brachium of the inferior colliculus",
           "NB"
          ],
          [
           "Nucleus sagulum",
           "SAG"
          ],
          [
           "Parabigeminal nucleus",
           "PBG"
          ],
          [
           "Midbrain trigeminal nucleus",
           "MEV"
          ],
          [
           "Subcommissural organ",
           "SCO"
          ],
          [
           "Substantia nigra, reticular part",
           "SNr"
          ],
          [
           "Ventral tegmental area",
           "VTA"
          ],
          [
           "Paranigral nucleus",
           "PN"
          ],
          [
           "Midbrain reticular nucleus, retrorubral area",
           "RR"
          ],
          [
           "Midbrain reticular nucleus",
           "MRN"
          ],
          [
           "Superior colliculus, motor related",
           "SCm"
          ],
          [
           "Periaqueductal gray",
           "PAG"
          ],
          [
           "Anterior pretectal nucleus",
           "APN"
          ],
          [
           "Medial pretectal area",
           "MPT"
          ],
          [
           "Nucleus of the optic tract",
           "NOT"
          ],
          [
           "Nucleus of the posterior commissure",
           "NPC"
          ],
          [
           "Olivary pretectal nucleus",
           "OP"
          ],
          [
           "Posterior pretectal nucleus",
           "PPT"
          ],
          [
           "Cuneiform nucleus",
           "CUN"
          ],
          [
           "Red nucleus",
           "RN"
          ],
          [
           "Oculomotor nucleus",
           "III"
          ],
          [
           "Medial accesory oculomotor nucleus",
           "MA3"
          ],
          [
           "Edinger-Westphal nucleus",
           "EW"
          ],
          [
           "Trochlear nucleus",
           "IV"
          ],
          [
           "Paratrochlear nucleus",
           "Pa4"
          ],
          [
           "Ventral tegmental nucleus",
           "VTN"
          ],
          [
           "Anterior tegmental nucleus",
           "AT"
          ],
          [
           "Lateral terminal nucleus of the accessory optic tract",
           "LT"
          ],
          [
           "Dorsal terminal nucleus of the accessory optic tract",
           "DT"
          ],
          [
           "Medial terminal nucleus of the accessory optic tract",
           "MT"
          ],
          [
           "Substantia nigra, compact part",
           "SNc"
          ],
          [
           "Pedunculopontine nucleus",
           "PPN"
          ],
          [
           "Interfascicular nucleus raphe",
           "IF"
          ],
          [
           "Interpeduncular nucleus",
           "IPN"
          ],
          [
           "Rostral linear nucleus raphe",
           "RL"
          ],
          [
           "Central linear nucleus raphe",
           "CLI"
          ],
          [
           "Dorsal nucleus raphe",
           "DR"
          ]
         ],
         "hovertemplate": "<b>%{customdata[1]}</b><br><i>%{customdata[0]}</i><br>Midbrain<br><b>Staining Metric</b>:%{x:.3f}<br><b>Gene Expression</b>:%{y:.3f}<extra></extra>",
         "marker": {
          "color": [
           "rgb(255,122,255)",
           "rgb(255,122,255)",
           "rgb(255,122,255)",
           "rgb(255,122,255)",
           "rgb(255,122,255)",
           "rgb(255,122,255)",
           "rgb(255,122,255)",
           "rgb(255,144,255)",
           "rgb(255,144,255)",
           "rgb(255,144,255)",
           "rgb(255,144,255)",
           "rgb(255,144,255)",
           "rgb(255,144,255)",
           "rgb(255,144,255)",
           "rgb(255,144,255)",
           "rgb(255,144,255)",
           "rgb(255,144,255)",
           "rgb(255,144,255)",
           "rgb(255,144,255)",
           "rgb(255,144,255)",
           "rgb(255,144,255)",
           "rgb(255,144,255)",
           "rgb(255,144,255)",
           "rgb(255,144,255)",
           "rgb(255,144,255)",
           "rgb(255,144,255)",
           "rgb(255,144,255)",
           "rgb(255,144,255)",
           "rgb(255,144,255)",
           "rgb(255,144,255)",
           "rgb(255,144,255)",
           "rgb(255,144,255)",
           "rgb(255,166,255)",
           "rgb(255,166,255)",
           "rgb(255,166,255)",
           "rgb(255,166,255)",
           "rgb(255,166,255)",
           "rgb(255,166,255)",
           "rgb(255,166,255)"
          ],
          "line": {
           "width": 1
          },
          "opacity": 0.85,
          "size": 13
         },
         "mode": "markers",
         "name": "Midbrain",
         "type": "scatter",
         "x": [
          0.1217986666666666,
          0.6431553333333334,
          0.2073671366666667,
          0.4505272333333333,
          0.3077882999999999,
          0.1586720666666666,
          null,
          0.0880691666666666,
          0.2522690666666666,
          null,
          0.1656666666666666,
          0.2700748333333333,
          0.3223503333333333,
          0.1326740666666666,
          0.0947008723333333,
          0.0753673333333333,
          0.1143439499999999,
          0.1516192426666666,
          0.0773584666666666,
          0.0783639933333333,
          0.650721,
          0.6024636666666666,
          0.4049605,
          null,
          null,
          null,
          null,
          0.1817696666666667,
          0.234532,
          0.0687683666666666,
          null,
          null,
          0.1113161999999999,
          0.2365924666666666,
          0.038569989,
          0.0552469476666666,
          0.0335645766666666,
          0.24734157,
          0.0892476333333333
         ],
         "y": [
          0.1233837447558267,
          5.679554898372563,
          0.8591493465223652,
          0.6809193384815764,
          8.59113545703918,
          0.2732901986275569,
          0,
          2.340683730456655,
          0.2690883121831831,
          0.06965521527018952,
          0.4531078547371732,
          1.5243330329308,
          1.471285099084291,
          0.7808812255733854,
          2.491892262435961,
          0.4192370906871294,
          0.7879031671848838,
          1.315373432490068,
          2.28599737865214,
          0.8586250384924109,
          1.695546832026386,
          6.618326438943961,
          10.73660684536226,
          1.559063794036012,
          1.064083673539078,
          7.387580220263872,
          7.840682989750859,
          4.098869242521133,
          3.702930249955156,
          0.3816419099980228,
          0.2039258260328421,
          0.5967611073681398,
          0.9988528443399641,
          1.524472119179464,
          0.06458765058560198,
          0.1960231899529923,
          0.2848593101645912,
          0.02784758960540043,
          0.1743090178229412
         ]
        },
        {
         "customdata": [
          [
           "Main olfactory bulb",
           "MOB"
          ],
          [
           "Accessory olfactory bulb",
           "AOB"
          ],
          [
           "Anterior olfactory nucleus",
           "AON"
          ],
          [
           "Taenia tecta",
           "TT"
          ],
          [
           "Dorsal peduncular area",
           "DP"
          ],
          [
           "Piriform area",
           "PIR"
          ],
          [
           "Nucleus of the lateral olfactory tract",
           "NLOT"
          ],
          [
           "Cortical amygdalar area, anterior part",
           "COAa"
          ],
          [
           "Cortical amygdalar area, posterior part",
           "COAp"
          ],
          [
           "Piriform-amygdalar area",
           "PAA"
          ],
          [
           "Postpiriform transition area",
           "TR"
          ]
         ],
         "hovertemplate": "<b>%{customdata[1]}</b><br><i>%{customdata[0]}</i><br>Olfactory areas<br><b>Staining Metric</b>:%{x:.3f}<br><b>Gene Expression</b>:%{y:.3f}<extra></extra>",
         "marker": {
          "color": [
           "rgb(154,210,189)",
           "rgb(157,240,210)",
           "rgb(84,191,148)",
           "rgb(98,208,159)",
           "rgb(164,218,164)",
           "rgb(106,203,186)",
           "rgb(149,228,200)",
           "rgb(97,231,183)",
           "rgb(97,231,183)",
           "rgb(89,218,171)",
           "rgb(168,236,211)"
          ],
          "line": {
           "width": 1
          },
          "opacity": 0.85,
          "size": 13
         },
         "mode": "markers",
         "name": "Olfactory areas",
         "type": "scatter",
         "x": [
          0.7865796666666668,
          0.3682754666666667,
          0.2022103333333333,
          0.325617,
          0.2830487,
          0.0542670833333333,
          0.0532828333333333,
          0.0339360166666666,
          0.03796564,
          0.0603053266666666,
          0.0656487853333333
         ],
         "y": [
          0.1451476968443317,
          0,
          0.270402243852118,
          0.3793469420331159,
          0.4332330385926028,
          0.386536934603513,
          0.2841004172429667,
          0.2129412157894086,
          0.8105250979552318,
          0.1903115099822104,
          0.1898207588051839
         ]
        },
        {
         "customdata": [
          [
           "Globus pallidus, external segment",
           "GPe"
          ],
          [
           "Globus pallidus, internal segment",
           "GPi"
          ],
          [
           "Substantia innominata",
           "SI"
          ],
          [
           "Magnocellular nucleus",
           "MA"
          ],
          [
           "Medial septal nucleus",
           "MS"
          ],
          [
           "Diagonal band nucleus",
           "NDB"
          ],
          [
           "Triangular nucleus of septum",
           "TRS"
          ],
          [
           "Bed nuclei of the stria terminalis",
           "BST"
          ],
          [
           "Bed nucleus of the anterior commissure",
           "BAC"
          ]
         ],
         "hovertemplate": "<b>%{customdata[1]}</b><br><i>%{customdata[0]}</i><br>Pallidum<br><b>Staining Metric</b>:%{x:.3f}<br><b>Gene Expression</b>:%{y:.3f}<extra></extra>",
         "marker": {
          "color": [
           "rgb(133,153,204)",
           "rgb(133,153,204)",
           "rgb(162,177,216)",
           "rgb(162,177,216)",
           "rgb(150,167,211)",
           "rgb(150,167,211)",
           "rgb(150,167,211)",
           "rgb(179,192,223)",
           "rgb(179,192,223)"
          ],
          "line": {
           "width": 1
          },
          "opacity": 0.85,
          "size": 13
         },
         "mode": "markers",
         "name": "Pallidum",
         "type": "scatter",
         "x": [
          0.0639239666666666,
          0.03813383,
          0.0832108333333333,
          0.1165768666666666,
          0.0210999370033333,
          0.028609,
          0.0154159499999999,
          0.0527928666666666,
          0.0337546333333333
         ],
         "y": [
          0.640893196853473,
          0.9686617904424683,
          0.4574992966023456,
          1.601391767306474,
          1.76461578658852,
          1.191817644204402,
          0.2401188049982754,
          0.3801629388584796,
          0.1083062356735776
         ]
        },
        {
         "customdata": [
          [
           "Nucleus of the lateral lemniscus",
           "NLL"
          ],
          [
           "Principal sensory nucleus of the trigeminal",
           "PSV"
          ],
          [
           "Parabrachial nucleus",
           "PB"
          ],
          [
           "Superior olivary complex",
           "SOC"
          ],
          [
           "Barrington's nucleus",
           "B"
          ],
          [
           "Dorsal tegmental nucleus",
           "DTN"
          ],
          [
           "Posterodorsal tegmental nucleus",
           "PDTg"
          ],
          [
           "Pontine central gray",
           "PCG"
          ],
          [
           "Pontine gray",
           "PG"
          ],
          [
           "Pontine reticular nucleus, caudal part",
           "PRNc"
          ],
          [
           "Supragenual nucleus",
           "SG"
          ],
          [
           "Supratrigeminal nucleus",
           "SUT"
          ],
          [
           "Tegmental reticular nucleus",
           "TRN"
          ],
          [
           "Motor nucleus of trigeminal",
           "V"
          ],
          [
           "Peritrigeminal zone",
           "P5"
          ],
          [
           "Accessory trigeminal nucleus",
           "Acs5"
          ],
          [
           "Parvicellular motor 5 nucleus",
           "PC5"
          ],
          [
           "Intertrigeminal nucleus",
           "I5"
          ],
          [
           "Superior central nucleus raphe",
           "CS"
          ],
          [
           "Locus ceruleus",
           "LC"
          ],
          [
           "Laterodorsal tegmental nucleus",
           "LDT"
          ],
          [
           "Nucleus incertus",
           "NI"
          ],
          [
           "Pontine reticular nucleus",
           "PRNr"
          ],
          [
           "Nucleus raphe pontis",
           "RPO"
          ],
          [
           "Subceruleus nucleus",
           "SLC"
          ],
          [
           "Sublaterodorsal nucleus",
           "SLD"
          ]
         ],
         "hovertemplate": "<b>%{customdata[1]}</b><br><i>%{customdata[0]}</i><br>Pons<br><b>Staining Metric</b>:%{x:.3f}<br><b>Gene Expression</b>:%{y:.3f}<extra></extra>",
         "marker": {
          "color": [
           "rgb(255,174,111)",
           "rgb(255,174,111)",
           "rgb(255,174,111)",
           "rgb(255,174,111)",
           "rgb(255,186,134)",
           "rgb(255,186,134)",
           "rgb(255,186,134)",
           "rgb(255,186,134)",
           "rgb(255,186,134)",
           "rgb(255,186,134)",
           "rgb(255,186,134)",
           "rgb(255,186,134)",
           "rgb(255,186,134)",
           "rgb(255,186,134)",
           "rgb(255,186,134)",
           "rgb(255,186,134)",
           "rgb(255,186,134)",
           "rgb(255,186,134)",
           "rgb(255,195,149)",
           "rgb(255,195,149)",
           "rgb(255,195,149)",
           "rgb(255,195,149)",
           "rgb(255,195,149)",
           "rgb(255,195,149)",
           "rgb(255,195,149)",
           "rgb(255,195,149)"
          ],
          "line": {
           "width": 1
          },
          "opacity": 0.85,
          "size": 13
         },
         "mode": "markers",
         "name": "Pons",
         "type": "scatter",
         "x": [
          0.4484329333333334,
          0.5296083666666667,
          0.215775,
          0.5128486666666666,
          0.1010380333333333,
          0.0470831666666666,
          null,
          0.1686566666666666,
          0.06688324,
          0.753197,
          0.131401,
          0.4013326666666666,
          0.1726241666666666,
          0.8464816666666667,
          null,
          null,
          null,
          null,
          0.0734133333333333,
          0.11334622,
          0.1395291,
          0.1759167666666666,
          0.5367953333333334,
          0.19301601,
          0.2260073333333333,
          0.1448605666666666
         ],
         "y": [
          5.798221109831148,
          4.520454078250615,
          1.207459172921795,
          4.907819233256261,
          0.3683102683579739,
          1.782092867593819,
          0.1513938635122122,
          0.4185634807467618,
          0.3441725601089877,
          2.37595523234298,
          0.3444518270913208,
          2.630598655686148,
          0.7579765194682082,
          2.93088905454332,
          1.808590686657293,
          1.572701915308228,
          1.273300856703763,
          2.579509045095723,
          0.4464011096668697,
          0.2440784800986971,
          0.4929102358270567,
          0.2321077841064417,
          2.778195383862579,
          0.1262721065277621,
          0.9940796778182717,
          0.3755506150826956
         ]
        },
        {
         "customdata": [
          [
           "Caudoputamen",
           "CP"
          ],
          [
           "Nucleus accumbens",
           "ACB"
          ],
          [
           "Fundus of striatum",
           "FS"
          ],
          [
           "Olfactory tubercle",
           "OT"
          ],
          [
           "Lateral septal nucleus, caudal (caudodorsal) part",
           "LSc"
          ],
          [
           "Lateral septal nucleus, rostral (rostroventral) part",
           "LSr"
          ],
          [
           "Lateral septal nucleus, ventral part",
           "LSv"
          ],
          [
           "Septofimbrial nucleus",
           "SF"
          ],
          [
           "Septohippocampal nucleus",
           "SH"
          ],
          [
           "Anterior amygdalar area",
           "AAA"
          ],
          [
           "Bed nucleus of the accessory olfactory tract",
           "BA"
          ],
          [
           "Central amygdalar nucleus",
           "CEA"
          ],
          [
           "Intercalated amygdalar nucleus",
           "IA"
          ],
          [
           "Medial amygdalar nucleus",
           "MEA"
          ]
         ],
         "hovertemplate": "<b>%{customdata[1]}</b><br><i>%{customdata[0]}</i><br>Striatum<br><b>Staining Metric</b>:%{x:.3f}<br><b>Gene Expression</b>:%{y:.3f}<extra></extra>",
         "marker": {
          "color": [
           "rgb(152,214,249)",
           "rgb(128,205,248)",
           "rgb(128,205,248)",
           "rgb(128,205,248)",
           "rgb(144,203,237)",
           "rgb(144,203,237)",
           "rgb(144,203,237)",
           "rgb(144,203,237)",
           "rgb(144,203,237)",
           "rgb(128,192,226)",
           "rgb(128,192,226)",
           "rgb(128,192,226)",
           "rgb(128,192,226)",
           "rgb(128,192,226)"
          ],
          "line": {
           "width": 1
          },
          "opacity": 0.85,
          "size": 13
         },
         "mode": "markers",
         "name": "Striatum",
         "type": "scatter",
         "x": [
          0.0473649333333333,
          0.0404183,
          0.0845045,
          0.0527548666666666,
          0.1037992333333333,
          0.0527119666666666,
          0.1603581899999999,
          0.0764480666666666,
          0.0441093163999999,
          0.1067754333333333,
          0.1205415666666666,
          0.0311636166666666,
          0.0365821066666666,
          0.0574692666666666
         ],
         "y": [
          0.2076423624071279,
          0.1036462200589302,
          0.09033107859959469,
          0.2332611924246453,
          0.7382234237699403,
          1.136849641277268,
          0.3595277736178097,
          0.389549048374234,
          1.050359127184044,
          0.9177130274130041,
          0.05436173343863236,
          0.18161683617783,
          0.07553742982126511,
          0.9834987512725945
         ]
        },
        {
         "customdata": [
          [
           "Ventral anterior-lateral complex of the thalamus",
           "VAL"
          ],
          [
           "Ventral medial nucleus of the thalamus",
           "VM"
          ],
          [
           "Ventral posterolateral nucleus of the thalamus",
           "VPL"
          ],
          [
           "Ventral posterolateral nucleus of the thalamus, parvicellular part",
           "VPLpc"
          ],
          [
           "Ventral posteromedial nucleus of the thalamus",
           "VPM"
          ],
          [
           "Ventral posteromedial nucleus of the thalamus, parvicellular part",
           "VPMpc"
          ],
          [
           "Posterior triangular thalamic nucleus",
           "PoT"
          ],
          [
           "Subparafascicular nucleus, magnocellular part",
           "SPFm"
          ],
          [
           "Subparafascicular nucleus, parvicellular part",
           "SPFp"
          ],
          [
           "Subparafascicular area",
           "SPA"
          ],
          [
           "Peripeduncular nucleus",
           "PP"
          ],
          [
           "Medial geniculate complex",
           "MG"
          ],
          [
           "Dorsal part of the lateral geniculate complex",
           "LGd"
          ],
          [
           "Lateral posterior nucleus of the thalamus",
           "LP"
          ],
          [
           "Posterior complex of the thalamus",
           "PO"
          ],
          [
           "Posterior limiting nucleus of the thalamus",
           "POL"
          ],
          [
           "Suprageniculate nucleus",
           "SGN"
          ],
          [
           "Anteroventral nucleus of thalamus",
           "AV"
          ],
          [
           "Anteromedial nucleus",
           "AM"
          ],
          [
           "Anterodorsal nucleus",
           "AD"
          ],
          [
           "Interanteromedial nucleus of the thalamus",
           "IAM"
          ],
          [
           "Interanterodorsal nucleus of the thalamus",
           "IAD"
          ],
          [
           "Lateral dorsal nucleus of thalamus",
           "LD"
          ],
          [
           "Intermediodorsal nucleus of the thalamus",
           "IMD"
          ],
          [
           "Mediodorsal nucleus of thalamus",
           "MD"
          ],
          [
           "Submedial nucleus of the thalamus",
           "SMT"
          ],
          [
           "Perireunensis nucleus",
           "PR"
          ],
          [
           "Paraventricular nucleus of the thalamus",
           "PVT"
          ],
          [
           "Parataenial nucleus",
           "PT"
          ],
          [
           "Nucleus of reuniens",
           "RE"
          ],
          [
           "Xiphoid thalamic nucleus",
           "Xi"
          ],
          [
           "Rhomboid nucleus",
           "RH"
          ],
          [
           "Central medial nucleus of the thalamus",
           "CM"
          ],
          [
           "Paracentral nucleus",
           "PCN"
          ],
          [
           "Central lateral nucleus of the thalamus",
           "CL"
          ],
          [
           "Parafascicular nucleus",
           "PF"
          ],
          [
           "Posterior intralaminar thalamic nucleus",
           "PIL"
          ],
          [
           "Reticular nucleus of the thalamus",
           "RT"
          ],
          [
           "Intergeniculate leaflet of the lateral geniculate complex",
           "IGL"
          ],
          [
           "Intermediate geniculate nucleus",
           "IntG"
          ],
          [
           "Ventral part of the lateral geniculate complex",
           "LGv"
          ],
          [
           "Subgeniculate nucleus",
           "SubG"
          ],
          [
           "Medial habenula",
           "MH"
          ],
          [
           "Lateral habenula",
           "LH"
          ]
         ],
         "hovertemplate": "<b>%{customdata[1]}</b><br><i>%{customdata[0]}</i><br>Thalamus<br><b>Staining Metric</b>:%{x:.3f}<br><b>Gene Expression</b>:%{y:.3f}<extra></extra>",
         "marker": {
          "color": [
           "rgb(255,128,132)",
           "rgb(255,128,132)",
           "rgb(255,128,132)",
           "rgb(255,128,132)",
           "rgb(255,128,132)",
           "rgb(255,128,132)",
           "rgb(255,128,132)",
           "rgb(255,128,132)",
           "rgb(255,128,132)",
           "rgb(255,128,132)",
           "rgb(255,128,132)",
           "rgb(255,128,132)",
           "rgb(255,128,132)",
           "rgb(255,144,159)",
           "rgb(255,144,159)",
           "rgb(255,144,159)",
           "rgb(255,144,159)",
           "rgb(255,144,159)",
           "rgb(255,144,159)",
           "rgb(255,144,159)",
           "rgb(255,144,159)",
           "rgb(255,144,159)",
           "rgb(255,144,159)",
           "rgb(255,144,159)",
           "rgb(255,144,159)",
           "rgb(255,144,159)",
           "rgb(255,144,159)",
           "rgb(255,144,159)",
           "rgb(255,144,159)",
           "rgb(255,144,159)",
           "rgb(255,144,159)",
           "rgb(255,144,159)",
           "rgb(255,144,159)",
           "rgb(255,144,159)",
           "rgb(255,144,159)",
           "rgb(255,144,159)",
           "rgb(255,144,159)",
           "rgb(255,144,159)",
           "rgb(255,144,159)",
           "rgb(255,144,159)",
           "rgb(255,144,159)",
           "rgb(255,144,159)",
           "rgb(255,144,159)",
           "rgb(255,144,159)"
          ],
          "line": {
           "width": 1
          },
          "opacity": 0.85,
          "size": 13
         },
         "mode": "markers",
         "name": "Thalamus",
         "type": "scatter",
         "x": [
          0.0440388203333333,
          0.0657296766666666,
          0.07428969,
          0.0774465752333333,
          0.0276647183333333,
          0.0249959553333333,
          null,
          0.0241190166666666,
          0.0927953999999999,
          0.0183329690666666,
          0.0836967666666666,
          0.0870363666666666,
          0.0678465499999999,
          0.0561037966666666,
          0.0410326146666666,
          0.1020524566666666,
          0.062368886,
          0.0493018,
          0.0374856233333333,
          0.0777386666666666,
          0.0566776202544,
          0.0371806,
          0.0573403366666666,
          0.022135814,
          0.0319403333333333,
          0.0473296126633333,
          0.0338763,
          0.02255255,
          0.03873428,
          0.0226056759666666,
          null,
          0.0442068187489999,
          0.0547791998333333,
          0.0351186563333333,
          0.0479830966666666,
          0.0504756041666666,
          null,
          0.05457242,
          0.2089803166666667,
          null,
          0.1842304333333333,
          0.1364670333333333,
          0.0718246,
          0.0527661999999999
         ],
         "y": [
          0.0204437025105376,
          0.2268943742595715,
          0.1150539776934767,
          0.1452834786217914,
          0.01605260046224809,
          0.1919558819308336,
          0.3988035174209488,
          0.2462222172688397,
          0.6433429187485867,
          0.02623019114470078,
          0.7242006868247254,
          0.1175403913242456,
          0.004546670617879682,
          0.04723266494351013,
          0.004138396547035214,
          1.395504462949989,
          0.1320612656152919,
          0.08046069387248596,
          0.01856917444678948,
          0.01238883950803859,
          0,
          0,
          0.046537551520108,
          0.002631755504272781,
          0.03914977970730572,
          0.01675631540746843,
          0.06410236887731056,
          0.007547310475262504,
          0.002816551711382538,
          0.01711366491634155,
          0.007862413655128384,
          0.002158499893455751,
          0.001401757069797667,
          0.003381145912708665,
          0.1047574349460437,
          0.122335934447675,
          0.3195135625863009,
          6.748980042146553,
          0.2698484791135149,
          0.8350721751129111,
          0.6744609900410621,
          0.7418288135036759,
          0.05008698864625053,
          0.8065126197371378
         ]
        }
       ],
       "layout": {
        "font": {
         "size": 14
        },
        "height": 650,
        "legend": {
         "orientation": "v"
        },
        "margin": {
         "t": 30
        },
        "template": {
         "data": {
          "scatter": [
           {
            "type": "scatter"
           }
          ]
         }
        },
        "xaxis": {
         "title": {
          "text": "Gene Expression Energy"
         },
         "type": "log"
        },
        "yaxis": {
         "scaleanchor": "x",
         "scaleratio": 1,
         "title": {
          "text": "Staining Metric"
         },
         "type": "log"
        }
       }
      }
     },
     "metadata": {},
     "output_type": "display_data"
    }
   ],
   "source": [
    "import numpy as np\n",
    "import plotly.express as px\n",
    "from plotly import graph_objects as go\n",
    "\n",
    "# fig = go.Figure()\n",
    "\n",
    "fig = cf.make_GeneScatter()\n",
    "# remove all present data\n",
    "fig.data = []\n",
    "\n",
    "# Draw a Scatter trace for each area in the dataFrame\n",
    "for coarse, new_df in merged.groupby(level='coarse'):\n",
    "    thisTrace = go.Scatter(\n",
    "        x = new_df['geneExp'], y = new_df['metric'],\n",
    "        name = structureDf.loc[coarse]['name'],\n",
    "        marker_color = new_df['rgb_plotly'],\n",
    "        mode='markers',\n",
    "        marker = dict(\n",
    "            size=13,\n",
    "            line_width=1,\n",
    "            opacity=0.85,\n",
    "        ),\n",
    "        customdata  = np.stack((new_df['name'], new_df['acronym']), axis=-1),\n",
    "        hovertemplate= \"<b>%{customdata[1]}</b>\" + \"<br>\" +\n",
    "            \"<i>%{customdata[0]}</i>\" + \"<br>\" + \n",
    "            f\"{structureDf.loc[coarse]['name']}\" + \"<br>\" +\n",
    "            f\"<b>Staining Metric</b>:\" \"%{x:.3f}\" + \"<br>\" + \n",
    "            f\"<b>Gene Expression</b>:\" + \"%{y:.3f}\" +\n",
    "            \"<extra></extra>\",\n",
    "        \n",
    "    )\n",
    "    fig.add_trace(thisTrace)\n",
    "\n",
    "# Sort traces alphabetically\n",
    "fig.data = sorted(fig.data, key=lambda d: d['name']) \n",
    "# fig.update_xaxes(type=\"log\")\n",
    "# fig.update_yaxes(type=\"log\")\n",
    "\n",
    "fig.show()\n"
   ]
  },
  {
   "cell_type": "code",
   "execution_count": 8,
   "metadata": {},
   "outputs": [
    {
     "data": {
      "text/html": [
       "<div>\n",
       "<style scoped>\n",
       "    .dataframe tbody tr th:only-of-type {\n",
       "        vertical-align: middle;\n",
       "    }\n",
       "\n",
       "    .dataframe tbody tr th {\n",
       "        vertical-align: top;\n",
       "    }\n",
       "\n",
       "    .dataframe thead th {\n",
       "        text-align: right;\n",
       "    }\n",
       "</style>\n",
       "<table border=\"1\" class=\"dataframe\">\n",
       "  <thead>\n",
       "    <tr style=\"text-align: right;\">\n",
       "      <th></th>\n",
       "      <th>184</th>\n",
       "      <th>985</th>\n",
       "      <th>993</th>\n",
       "      <th>353</th>\n",
       "      <th>329</th>\n",
       "      <th>337</th>\n",
       "      <th>345</th>\n",
       "      <th>369</th>\n",
       "      <th>361</th>\n",
       "      <th>182305689</th>\n",
       "      <th>...</th>\n",
       "      <th>1017</th>\n",
       "      <th>1025</th>\n",
       "      <th>1033</th>\n",
       "      <th>1041</th>\n",
       "      <th>1049</th>\n",
       "      <th>989</th>\n",
       "      <th>91</th>\n",
       "      <th>846</th>\n",
       "      <th>589508455</th>\n",
       "      <th>1009</th>\n",
       "    </tr>\n",
       "    <tr>\n",
       "      <th>gene_id</th>\n",
       "      <th></th>\n",
       "      <th></th>\n",
       "      <th></th>\n",
       "      <th></th>\n",
       "      <th></th>\n",
       "      <th></th>\n",
       "      <th></th>\n",
       "      <th></th>\n",
       "      <th></th>\n",
       "      <th></th>\n",
       "      <th></th>\n",
       "      <th></th>\n",
       "      <th></th>\n",
       "      <th></th>\n",
       "      <th></th>\n",
       "      <th></th>\n",
       "      <th></th>\n",
       "      <th></th>\n",
       "      <th></th>\n",
       "      <th></th>\n",
       "      <th></th>\n",
       "    </tr>\n",
       "  </thead>\n",
       "  <tbody>\n",
       "    <tr>\n",
       "      <th>11126.0</th>\n",
       "      <td>0.473943</td>\n",
       "      <td>0.500063</td>\n",
       "      <td>0.380301</td>\n",
       "      <td>1.354610</td>\n",
       "      <td>0.752251</td>\n",
       "      <td>0.371575</td>\n",
       "      <td>0.689385</td>\n",
       "      <td>0.610790</td>\n",
       "      <td>0.531021</td>\n",
       "      <td>0.611769</td>\n",
       "      <td>...</td>\n",
       "      <td>0.848387</td>\n",
       "      <td>0.584759</td>\n",
       "      <td>1.031300</td>\n",
       "      <td>1.785600</td>\n",
       "      <td>0.827087</td>\n",
       "      <td>0.295098</td>\n",
       "      <td>0.437803</td>\n",
       "      <td>0.331696</td>\n",
       "      <td>NaN</td>\n",
       "      <td>NaN</td>\n",
       "    </tr>\n",
       "    <tr>\n",
       "      <th>11134.0</th>\n",
       "      <td>0.368271</td>\n",
       "      <td>0.118375</td>\n",
       "      <td>0.082076</td>\n",
       "      <td>0.099143</td>\n",
       "      <td>0.090373</td>\n",
       "      <td>0.169150</td>\n",
       "      <td>0.099486</td>\n",
       "      <td>0.129184</td>\n",
       "      <td>0.093695</td>\n",
       "      <td>0.126556</td>\n",
       "      <td>...</td>\n",
       "      <td>0.203991</td>\n",
       "      <td>0.151322</td>\n",
       "      <td>0.400241</td>\n",
       "      <td>0.141211</td>\n",
       "      <td>0.105338</td>\n",
       "      <td>0.299928</td>\n",
       "      <td>0.240518</td>\n",
       "      <td>0.213599</td>\n",
       "      <td>NaN</td>\n",
       "      <td>NaN</td>\n",
       "    </tr>\n",
       "    <tr>\n",
       "      <th>11138.0</th>\n",
       "      <td>5.821550</td>\n",
       "      <td>11.560200</td>\n",
       "      <td>9.973270</td>\n",
       "      <td>7.209290</td>\n",
       "      <td>8.615720</td>\n",
       "      <td>11.209600</td>\n",
       "      <td>8.495910</td>\n",
       "      <td>7.132290</td>\n",
       "      <td>8.312070</td>\n",
       "      <td>8.866190</td>\n",
       "      <td>...</td>\n",
       "      <td>5.951530</td>\n",
       "      <td>4.349760</td>\n",
       "      <td>7.871250</td>\n",
       "      <td>4.053100</td>\n",
       "      <td>2.933160</td>\n",
       "      <td>8.635530</td>\n",
       "      <td>11.964900</td>\n",
       "      <td>10.323800</td>\n",
       "      <td>NaN</td>\n",
       "      <td>NaN</td>\n",
       "    </tr>\n",
       "    <tr>\n",
       "      <th>11139.0</th>\n",
       "      <td>1.437350</td>\n",
       "      <td>0.365165</td>\n",
       "      <td>0.321158</td>\n",
       "      <td>0.154990</td>\n",
       "      <td>0.210551</td>\n",
       "      <td>0.631820</td>\n",
       "      <td>0.152069</td>\n",
       "      <td>0.180905</td>\n",
       "      <td>0.428857</td>\n",
       "      <td>0.170930</td>\n",
       "      <td>...</td>\n",
       "      <td>0.403761</td>\n",
       "      <td>0.447509</td>\n",
       "      <td>0.666701</td>\n",
       "      <td>0.484117</td>\n",
       "      <td>0.722483</td>\n",
       "      <td>0.249710</td>\n",
       "      <td>0.582740</td>\n",
       "      <td>0.358063</td>\n",
       "      <td>NaN</td>\n",
       "      <td>NaN</td>\n",
       "    </tr>\n",
       "    <tr>\n",
       "      <th>11140.0</th>\n",
       "      <td>1.264680</td>\n",
       "      <td>0.758946</td>\n",
       "      <td>0.735843</td>\n",
       "      <td>0.632790</td>\n",
       "      <td>0.544552</td>\n",
       "      <td>0.857853</td>\n",
       "      <td>0.636478</td>\n",
       "      <td>0.657498</td>\n",
       "      <td>0.927717</td>\n",
       "      <td>0.634649</td>\n",
       "      <td>...</td>\n",
       "      <td>0.473478</td>\n",
       "      <td>0.520546</td>\n",
       "      <td>1.830750</td>\n",
       "      <td>1.566280</td>\n",
       "      <td>1.278710</td>\n",
       "      <td>0.258622</td>\n",
       "      <td>0.769895</td>\n",
       "      <td>0.886037</td>\n",
       "      <td>NaN</td>\n",
       "      <td>NaN</td>\n",
       "    </tr>\n",
       "    <tr>\n",
       "      <th>...</th>\n",
       "      <td>...</td>\n",
       "      <td>...</td>\n",
       "      <td>...</td>\n",
       "      <td>...</td>\n",
       "      <td>...</td>\n",
       "      <td>...</td>\n",
       "      <td>...</td>\n",
       "      <td>...</td>\n",
       "      <td>...</td>\n",
       "      <td>...</td>\n",
       "      <td>...</td>\n",
       "      <td>...</td>\n",
       "      <td>...</td>\n",
       "      <td>...</td>\n",
       "      <td>...</td>\n",
       "      <td>...</td>\n",
       "      <td>...</td>\n",
       "      <td>...</td>\n",
       "      <td>...</td>\n",
       "      <td>...</td>\n",
       "      <td>...</td>\n",
       "    </tr>\n",
       "    <tr>\n",
       "      <th>1028068.0</th>\n",
       "      <td>0.030953</td>\n",
       "      <td>0.027163</td>\n",
       "      <td>0.060801</td>\n",
       "      <td>0.026112</td>\n",
       "      <td>0.034533</td>\n",
       "      <td>0.003623</td>\n",
       "      <td>0.026801</td>\n",
       "      <td>0.040057</td>\n",
       "      <td>0.076633</td>\n",
       "      <td>0.023490</td>\n",
       "      <td>...</td>\n",
       "      <td>0.079932</td>\n",
       "      <td>0.205561</td>\n",
       "      <td>0.084048</td>\n",
       "      <td>0.048442</td>\n",
       "      <td>0.050757</td>\n",
       "      <td>0.011558</td>\n",
       "      <td>0.010867</td>\n",
       "      <td>0.000847</td>\n",
       "      <td>NaN</td>\n",
       "      <td>NaN</td>\n",
       "    </tr>\n",
       "    <tr>\n",
       "      <th>1031710.0</th>\n",
       "      <td>0.562739</td>\n",
       "      <td>2.465340</td>\n",
       "      <td>2.384840</td>\n",
       "      <td>7.132790</td>\n",
       "      <td>6.344190</td>\n",
       "      <td>1.878710</td>\n",
       "      <td>4.561200</td>\n",
       "      <td>1.872130</td>\n",
       "      <td>1.629110</td>\n",
       "      <td>3.155870</td>\n",
       "      <td>...</td>\n",
       "      <td>14.445000</td>\n",
       "      <td>9.030140</td>\n",
       "      <td>7.215770</td>\n",
       "      <td>11.533400</td>\n",
       "      <td>12.597700</td>\n",
       "      <td>2.933350</td>\n",
       "      <td>4.497100</td>\n",
       "      <td>1.639100</td>\n",
       "      <td>NaN</td>\n",
       "      <td>NaN</td>\n",
       "    </tr>\n",
       "    <tr>\n",
       "      <th>1033266.0</th>\n",
       "      <td>1.567025</td>\n",
       "      <td>1.343336</td>\n",
       "      <td>1.101622</td>\n",
       "      <td>1.213564</td>\n",
       "      <td>0.886782</td>\n",
       "      <td>0.869605</td>\n",
       "      <td>1.236550</td>\n",
       "      <td>0.959510</td>\n",
       "      <td>0.640915</td>\n",
       "      <td>1.313487</td>\n",
       "      <td>...</td>\n",
       "      <td>0.688793</td>\n",
       "      <td>0.678058</td>\n",
       "      <td>1.451988</td>\n",
       "      <td>0.973112</td>\n",
       "      <td>0.917408</td>\n",
       "      <td>3.221695</td>\n",
       "      <td>3.216665</td>\n",
       "      <td>2.920635</td>\n",
       "      <td>NaN</td>\n",
       "      <td>NaN</td>\n",
       "    </tr>\n",
       "    <tr>\n",
       "      <th>1038462.0</th>\n",
       "      <td>0.171163</td>\n",
       "      <td>0.173108</td>\n",
       "      <td>0.061901</td>\n",
       "      <td>0.520373</td>\n",
       "      <td>0.142816</td>\n",
       "      <td>0.151558</td>\n",
       "      <td>0.102354</td>\n",
       "      <td>0.044268</td>\n",
       "      <td>0.100130</td>\n",
       "      <td>0.204575</td>\n",
       "      <td>...</td>\n",
       "      <td>0.116395</td>\n",
       "      <td>0.383348</td>\n",
       "      <td>0.989333</td>\n",
       "      <td>0.345741</td>\n",
       "      <td>0.305304</td>\n",
       "      <td>0.338946</td>\n",
       "      <td>0.250111</td>\n",
       "      <td>0.240287</td>\n",
       "      <td>NaN</td>\n",
       "      <td>NaN</td>\n",
       "    </tr>\n",
       "    <tr>\n",
       "      <th>1041936.0</th>\n",
       "      <td>0.676577</td>\n",
       "      <td>0.234439</td>\n",
       "      <td>0.266191</td>\n",
       "      <td>0.029710</td>\n",
       "      <td>0.060021</td>\n",
       "      <td>0.108144</td>\n",
       "      <td>0.093247</td>\n",
       "      <td>0.096560</td>\n",
       "      <td>0.199353</td>\n",
       "      <td>0.106501</td>\n",
       "      <td>...</td>\n",
       "      <td>0.117756</td>\n",
       "      <td>0.164222</td>\n",
       "      <td>0.705821</td>\n",
       "      <td>0.088602</td>\n",
       "      <td>0.101923</td>\n",
       "      <td>0.322944</td>\n",
       "      <td>0.693693</td>\n",
       "      <td>0.115322</td>\n",
       "      <td>NaN</td>\n",
       "      <td>NaN</td>\n",
       "    </tr>\n",
       "  </tbody>\n",
       "</table>\n",
       "<p>17639 rows × 316 columns</p>\n",
       "</div>"
      ],
      "text/plain": [
       "           184        985        993        353        329        337        \\\n",
       "gene_id                                                                       \n",
       "11126.0     0.473943   0.500063   0.380301   1.354610   0.752251   0.371575   \n",
       "11134.0     0.368271   0.118375   0.082076   0.099143   0.090373   0.169150   \n",
       "11138.0     5.821550  11.560200   9.973270   7.209290   8.615720  11.209600   \n",
       "11139.0     1.437350   0.365165   0.321158   0.154990   0.210551   0.631820   \n",
       "11140.0     1.264680   0.758946   0.735843   0.632790   0.544552   0.857853   \n",
       "...              ...        ...        ...        ...        ...        ...   \n",
       "1028068.0   0.030953   0.027163   0.060801   0.026112   0.034533   0.003623   \n",
       "1031710.0   0.562739   2.465340   2.384840   7.132790   6.344190   1.878710   \n",
       "1033266.0   1.567025   1.343336   1.101622   1.213564   0.886782   0.869605   \n",
       "1038462.0   0.171163   0.173108   0.061901   0.520373   0.142816   0.151558   \n",
       "1041936.0   0.676577   0.234439   0.266191   0.029710   0.060021   0.108144   \n",
       "\n",
       "           345        369        361        182305689  ...  1017       \\\n",
       "gene_id                                                ...              \n",
       "11126.0     0.689385   0.610790   0.531021   0.611769  ...   0.848387   \n",
       "11134.0     0.099486   0.129184   0.093695   0.126556  ...   0.203991   \n",
       "11138.0     8.495910   7.132290   8.312070   8.866190  ...   5.951530   \n",
       "11139.0     0.152069   0.180905   0.428857   0.170930  ...   0.403761   \n",
       "11140.0     0.636478   0.657498   0.927717   0.634649  ...   0.473478   \n",
       "...              ...        ...        ...        ...  ...        ...   \n",
       "1028068.0   0.026801   0.040057   0.076633   0.023490  ...   0.079932   \n",
       "1031710.0   4.561200   1.872130   1.629110   3.155870  ...  14.445000   \n",
       "1033266.0   1.236550   0.959510   0.640915   1.313487  ...   0.688793   \n",
       "1038462.0   0.102354   0.044268   0.100130   0.204575  ...   0.116395   \n",
       "1041936.0   0.093247   0.096560   0.199353   0.106501  ...   0.117756   \n",
       "\n",
       "           1025       1033       1041       1049       989        91         \\\n",
       "gene_id                                                                       \n",
       "11126.0     0.584759   1.031300   1.785600   0.827087   0.295098   0.437803   \n",
       "11134.0     0.151322   0.400241   0.141211   0.105338   0.299928   0.240518   \n",
       "11138.0     4.349760   7.871250   4.053100   2.933160   8.635530  11.964900   \n",
       "11139.0     0.447509   0.666701   0.484117   0.722483   0.249710   0.582740   \n",
       "11140.0     0.520546   1.830750   1.566280   1.278710   0.258622   0.769895   \n",
       "...              ...        ...        ...        ...        ...        ...   \n",
       "1028068.0   0.205561   0.084048   0.048442   0.050757   0.011558   0.010867   \n",
       "1031710.0   9.030140   7.215770  11.533400  12.597700   2.933350   4.497100   \n",
       "1033266.0   0.678058   1.451988   0.973112   0.917408   3.221695   3.216665   \n",
       "1038462.0   0.383348   0.989333   0.345741   0.305304   0.338946   0.250111   \n",
       "1041936.0   0.164222   0.705821   0.088602   0.101923   0.322944   0.693693   \n",
       "\n",
       "           846        589508455  1009       \n",
       "gene_id                                     \n",
       "11126.0     0.331696        NaN        NaN  \n",
       "11134.0     0.213599        NaN        NaN  \n",
       "11138.0    10.323800        NaN        NaN  \n",
       "11139.0     0.358063        NaN        NaN  \n",
       "11140.0     0.886037        NaN        NaN  \n",
       "...              ...        ...        ...  \n",
       "1028068.0   0.000847        NaN        NaN  \n",
       "1031710.0   1.639100        NaN        NaN  \n",
       "1033266.0   2.920635        NaN        NaN  \n",
       "1038462.0   0.240287        NaN        NaN  \n",
       "1041936.0   0.115322        NaN        NaN  \n",
       "\n",
       "[17639 rows x 316 columns]"
      ]
     },
     "execution_count": 8,
     "metadata": {},
     "output_type": "execute_result"
    }
   ],
   "source": [
    "# LOAD GENE EXPRESSION DATA\n",
    "dataPath = \".\\data\\gene_expression_ABA_energy.csv\"\n",
    "ish_en =  pd.read_csv(dataPath, index_col=0)\n",
    "ish_en.columns = pd.to_numeric(ish_en.columns)\n",
    "ish_en"
   ]
  },
  {
   "cell_type": "code",
   "execution_count": 9,
   "metadata": {},
   "outputs": [
    {
     "data": {
      "text/plain": [
       "[{'label': 'Adssl1', 'value': 11352},\n",
       " {'label': 'Lifr', 'value': 16651},\n",
       " {'label': 'Pnkd', 'value': 35974},\n",
       " {'label': 'Fam43a', 'value': 86045},\n",
       " {'label': 'Acan', 'value': 11382},\n",
       " {'label': 'Kank4', 'value': 88970},\n",
       " {'label': 'Dtnbp1', 'value': 60877},\n",
       " {'label': 'Atmin', 'value': 87898},\n",
       " {'label': 'Gm12429', 'value': 130280},\n",
       " {'label': 'B830028H17Rik*', 'value': 150110},\n",
       " {'label': 'Ddt', 'value': 12982},\n",
       " {'label': 'Ccdc126', 'value': 37166},\n",
       " {'label': 'Kcnab3', 'value': 16272},\n",
       " {'label': 'Cpeb3', 'value': 84034},\n",
       " {'label': 'Kcns3', 'value': 88419},\n",
       " {'label': 'Asb13', 'value': 80270},\n",
       " {'label': 'Pfkfb3', 'value': 82070},\n",
       " {'label': 'Cacybp', 'value': 12086},\n",
       " {'label': 'Myo19', 'value': 42039},\n",
       " {'label': 'Limk1', 'value': 16656},\n",
       " {'label': 'Paqr4', 'value': 52339},\n",
       " {'label': 'Lgi2', 'value': 89814},\n",
       " {'label': 'Ndufb5', 'value': 41889},\n",
       " {'label': 'Msantd2', 'value': 87971},\n",
       " {'label': 'Vwa5b2', 'value': 108506},\n",
       " {'label': 'Scrt1', 'value': 82032},\n",
       " {'label': 'Lamp5', 'value': 52002},\n",
       " {'label': 'Mbnl1', 'value': 36037},\n",
       " {'label': 'Ighm', 'value': 15792},\n",
       " {'label': '9630033F20Rik', 'value': 106736},\n",
       " {'label': 'Ankrd34b', 'value': 85358},\n",
       " {'label': 'Gne', 'value': 30285},\n",
       " {'label': 'Ndufaf2', 'value': 51438},\n",
       " {'label': 'Lysmd2', 'value': 45923},\n",
       " {'label': 'Vti1a', 'value': 32929},\n",
       " {'label': 'Vamp1', 'value': 22074},\n",
       " {'label': 'LOC328644', 'value': 108507},\n",
       " {'label': 'Enpp2', 'value': 18372},\n",
       " {'label': 'Luzp1', 'value': 92785},\n",
       " {'label': 'Ccdc186', 'value': 84620},\n",
       " {'label': 'Serinc5', 'value': 85360},\n",
       " {'label': 'Slc36a1', 'value': 84793},\n",
       " {'label': 'Pip4k2a', 'value': 18483},\n",
       " {'label': 'LOC434236', 'value': 130816},\n",
       " {'label': 'Zfyve9', 'value': 87062},\n",
       " {'label': 'Elovl1', 'value': 33617},\n",
       " {'label': 'Ttbk2', 'value': 80150},\n",
       " {'label': 'Bckdhb', 'value': 11826},\n",
       " {'label': 'Prmt3', 'value': 47815},\n",
       " {'label': 'Ppp1r14a', 'value': 44300},\n",
       " {'label': 'Tmem8', 'value': 37915},\n",
       " {'label': 'Glis2', 'value': 57645},\n",
       " {'label': 'Bach1', 'value': 11799},\n",
       " {'label': 'Slc22a23', 'value': 48943},\n",
       " {'label': 'Map7d2', 'value': 54123},\n",
       " {'label': 'Ttc33', 'value': 43358},\n",
       " {'label': 'Cables2', 'value': 90071},\n",
       " {'label': 'Mrps18a', 'value': 44407},\n",
       " {'label': 'Nefl', 'value': 17806},\n",
       " {'label': 'Rragb', 'value': 89435},\n",
       " {'label': 'Adamtsl3', 'value': 92886},\n",
       " {'label': 'Coro6', 'value': 85093},\n",
       " {'label': 'Cox6c', 'value': 12647},\n",
       " {'label': 'Svip', 'value': 51585},\n",
       " {'label': 'Tnk2', 'value': 31269},\n",
       " {'label': 'Atp5j2', 'value': 36697},\n",
       " {'label': 'Nsmaf', 'value': 17968},\n",
       " {'label': 'Nkiras1', 'value': 45562},\n",
       " {'label': 'Nr1h2', 'value': 22017},\n",
       " {'label': 'Dok5', 'value': 52669},\n",
       " {'label': 'Gjd2', 'value': 14393},\n",
       " {'label': 'Blvra', 'value': 73935},\n",
       " {'label': 'Cyp39a1', 'value': 35335},\n",
       " {'label': 'Dnpep', 'value': 13216},\n",
       " {'label': 'Sytl2', 'value': 57913},\n",
       " {'label': 'Mppe1', 'value': 86274},\n",
       " {'label': 'Panx2', 'value': 127958},\n",
       " {'label': 'Atp5e', 'value': 42969},\n",
       " {'label': 'Adam9', 'value': 11289},\n",
       " {'label': 'Pex5l', 'value': 37432},\n",
       " {'label': 'Il33', 'value': 52965},\n",
       " {'label': 'Fam213b', 'value': 42312},\n",
       " {'label': 'Fam168b', 'value': 84680},\n",
       " {'label': 'Abhd10', 'value': 84501},\n",
       " {'label': 'Rnd2', 'value': 11645},\n",
       " {'label': '1110008P14Rik', 'value': 49578},\n",
       " {'label': 'Xkr6', 'value': 85486},\n",
       " {'label': 'Cdk2ap1', 'value': 13224},\n",
       " {'label': 'Ube2ql1', 'value': 52820},\n",
       " {'label': 'Scn1a', 'value': 20028},\n",
       " {'label': 'Prmt10', 'value': 66351},\n",
       " {'label': 'Syt2', 'value': 20741},\n",
       " {'label': 'Ccdc85b', 'value': 88729},\n",
       " {'label': 'Bag1', 'value': 11803},\n",
       " {'label': 'Lrrcc1', 'value': 47551},\n",
       " {'label': 'Allc', 'value': 60688},\n",
       " {'label': 'Trappc4', 'value': 37869},\n",
       " {'label': 'Abcb9', 'value': 35605},\n",
       " {'label': 'Eif1b', 'value': 44811},\n",
       " {'label': '2210016L21Rik', 'value': 48198},\n",
       " {'label': 'Atp5k', 'value': 11744},\n",
       " {'label': 'Cntnap1', 'value': 32801},\n",
       " {'label': 'Slmo1', 'value': 86275},\n",
       " {'label': 'Gltscr2', 'value': 43920},\n",
       " {'label': 'Abcb6', 'value': 49945},\n",
       " {'label': 'LOC433775', 'value': 130356},\n",
       " {'label': 'Hsdl2', 'value': 48320},\n",
       " {'label': 'Ptgs1', 'value': 18987},\n",
       " {'label': 'Pik3c2b', 'value': 88757},\n",
       " {'label': 'Aldh5a1', 'value': 84700},\n",
       " {'label': 'Ppa1', 'value': 43738},\n",
       " {'label': 'Crot', 'value': 49955},\n",
       " {'label': 'Glul', 'value': 14421},\n",
       " {'label': 'Efr3a', 'value': 52581},\n",
       " {'label': 'Cdhr3', 'value': 44606},\n",
       " {'label': 'LOC381765', 'value': 120380},\n",
       " {'label': 'Cntn2', 'value': 21128},\n",
       " {'label': 'Morc2b', 'value': 88665},\n",
       " {'label': 'Ndfip2', 'value': 52114},\n",
       " {'label': 'AI854703', 'value': 89075},\n",
       " {'label': 'Enpp6', 'value': 107916},\n",
       " {'label': 'Parva', 'value': 36616},\n",
       " {'label': 'Tmco3', 'value': 87783},\n",
       " {'label': 'Gtf2b', 'value': 86968},\n",
       " {'label': 'Iqsec1', 'value': 87389},\n",
       " {'label': 'Ethe1', 'value': 41914},\n",
       " {'label': 'Mmel1', 'value': 27135},\n",
       " {'label': 'Pop5', 'value': 78406},\n",
       " {'label': 'St8sia1', 'value': 20212},\n",
       " {'label': 'Taldo1', 'value': 21112},\n",
       " {'label': 'Pstk', 'value': 84701},\n",
       " {'label': 'LOC432415', 'value': 129009},\n",
       " {'label': 'Them6', 'value': 85933},\n",
       " {'label': 'Cltb', 'value': 50166},\n",
       " {'label': 'Stx8', 'value': 35230},\n",
       " {'label': 'LOC381557', 'value': 120284},\n",
       " {'label': 'Sacm1l', 'value': 57737},\n",
       " {'label': 'Psmc6', 'value': 42932},\n",
       " {'label': 'Pcdh7', 'value': 33508},\n",
       " {'label': 'Cmc1', 'value': 43742},\n",
       " {'label': 'Sypl', 'value': 18790},\n",
       " {'label': 'Dexi', 'value': 37269},\n",
       " {'label': 'Cdc5l', 'value': 47543},\n",
       " {'label': 'Map1lc3a', 'value': 42577},\n",
       " {'label': 'Kazald1', 'value': 71415},\n",
       " {'label': 'Leprot', 'value': 87043},\n",
       " {'label': 'Ano4', 'value': 107026},\n",
       " {'label': 'L3mbtl4', 'value': 107793},\n",
       " {'label': 'Tbc1d31', 'value': 84215},\n",
       " {'label': 'Pus1', 'value': 35641},\n",
       " {'label': 'Slc25a25', 'value': 86637},\n",
       " {'label': 'Stap1', 'value': 36071},\n",
       " {'label': 'Ppip5k2', 'value': 86570},\n",
       " {'label': 'Asah2', 'value': 33738},\n",
       " {'label': 'Vegfb', 'value': 22097},\n",
       " {'label': 'Slc27a2', 'value': 26206},\n",
       " {'label': 'Hapln4', 'value': 108984},\n",
       " {'label': 'BC017643', 'value': 85193},\n",
       " {'label': 'Pvalb', 'value': 19056},\n",
       " {'label': 'Gadd45b', 'value': 17640},\n",
       " {'label': 'Glrx', 'value': 60344},\n",
       " {'label': 'Lamtor5', 'value': 44418},\n",
       " {'label': 'Hdhd2', 'value': 52827},\n",
       " {'label': 'Snx27', 'value': 52583},\n",
       " {'label': 'Soat2', 'value': 86005},\n",
       " {'label': 'Sf3b4', 'value': 71863},\n",
       " {'label': 'Mark1', 'value': 86471},\n",
       " {'label': 'Pgs1', 'value': 50292},\n",
       " {'label': 'Lman2', 'value': 42733},\n",
       " {'label': 'BC053994', 'value': 120193},\n",
       " {'label': 'Sqrdl', 'value': 37573},\n",
       " {'label': 'Dapk3', 'value': 12924},\n",
       " {'label': 'Pfdn4', 'value': 73213},\n",
       " {'label': 'Timm17a', 'value': 21613},\n",
       " {'label': 'Abca5', 'value': 85163},\n",
       " {'label': 'Eya4', 'value': 13828},\n",
       " {'label': 'Fgfr1op', 'value': 51137},\n",
       " {'label': 'Fbxo9', 'value': 47379},\n",
       " {'label': 'Iqsec3', 'value': 89109},\n",
       " {'label': 'Ttc39b', 'value': 45704},\n",
       " {'label': 'Dffa', 'value': 13127},\n",
       " {'label': '9330159M07Rik', 'value': 106608},\n",
       " {'label': 'Scamp1', 'value': 71929},\n",
       " {'label': 'Eif5a2', 'value': 84005},\n",
       " {'label': 'Grhpr', 'value': 52079},\n",
       " {'label': 'Arrdc3', 'value': 69336},\n",
       " {'label': 'Pantr1', 'value': 42140},\n",
       " {'label': 'Atp5l', 'value': 27169},\n",
       " {'label': 'P2rx5', 'value': 60692},\n",
       " {'label': 'Rap2c', 'value': 47906},\n",
       " {'label': 'D17Wsu92e', 'value': 86117},\n",
       " {'label': 'Fbxo40', 'value': 83849},\n",
       " {'label': 'Slitrk4', 'value': 89377},\n",
       " {'label': 'Rassf5', 'value': 33645},\n",
       " {'label': 'Alkbh6', 'value': 87563},\n",
       " {'label': 'Gtpbp8', 'value': 41910},\n",
       " {'label': 'Fmo3', 'value': 14039},\n",
       " {'label': 'Atp6v0a1', 'value': 11761},\n",
       " {'label': 'Psenen', 'value': 42183},\n",
       " {'label': 'Mroh1', 'value': 85947},\n",
       " {'label': 'Lyzl6', 'value': 45286},\n",
       " {'label': 'Hccs', 'value': 14935},\n",
       " {'label': 'Col19a1', 'value': 12606},\n",
       " {'label': 'Plekhh1', 'value': 84362},\n",
       " {'label': 'Mrpl42', 'value': 43113},\n",
       " {'label': 'Arfgef2', 'value': 63541},\n",
       " {'label': 'Nacad', 'value': 83036},\n",
       " {'label': 'Tsfm', 'value': 42242},\n",
       " {'label': 'Pcmt1', 'value': 18303},\n",
       " {'label': 'TC1414896', 'value': 136177},\n",
       " {'label': 'Plcl1', 'value': 86524},\n",
       " {'label': 'Ipo8', 'value': 107662},\n",
       " {'label': 'LOC434372', 'value': 130952},\n",
       " {'label': 'Hapln1', 'value': 12733},\n",
       " {'label': 'Rps20', 'value': 43270},\n",
       " {'label': 'Ublcp1', 'value': 55363},\n",
       " {'label': 'Rxfp4', 'value': 88912},\n",
       " {'label': 'Dact2', 'value': 88645},\n",
       " {'label': 'Crebl2', 'value': 87427},\n",
       " {'label': 'Mterf2', 'value': 50079},\n",
       " {'label': 'Ubfd1', 'value': 27762},\n",
       " {'label': 'Ptcd3', 'value': 45797},\n",
       " {'label': 'Nefm', 'value': 17807},\n",
       " {'label': '3110043O21Rik', 'value': 49046},\n",
       " {'label': 'Osbpl6', 'value': 63201},\n",
       " {'label': 'Loxl2', 'value': 60979},\n",
       " {'label': 'Shfm1', 'value': 20185},\n",
       " {'label': 'Kcna3', 'value': 16264},\n",
       " {'label': 'Mvb12a', 'value': 49552},\n",
       " {'label': 'Zfp654', 'value': 47861},\n",
       " {'label': 'Mrpl18', 'value': 43524},\n",
       " {'label': 'Dcp2', 'value': 46481},\n",
       " {'label': 'Gm427', 'value': 130313},\n",
       " {'label': 'Neto2', 'value': 50354},\n",
       " {'label': 'Slc25a46', 'value': 43296},\n",
       " {'label': '2010107E04Rik', 'value': 46098},\n",
       " {'label': 'Wdtc1', 'value': 87123},\n",
       " {'label': 'B230312C02Rik', 'value': 107420},\n",
       " {'label': 'Stk24', 'value': 85890},\n",
       " {'label': 'Nrg1', 'value': 84285},\n",
       " {'label': 'Ehd3', 'value': 36713},\n",
       " {'label': 'Dcun1d1', 'value': 77609},\n",
       " {'label': 'Ndufa8', 'value': 44217},\n",
       " {'label': 'Ciapin1', 'value': 73165},\n",
       " {'label': 'Bcat1', 'value': 11821},\n",
       " {'label': 'Ndufa4', 'value': 17759},\n",
       " {'label': 'Iars2', 'value': 120157},\n",
       " {'label': 'Nipa1', 'value': 87612},\n",
       " {'label': 'Rassf4', 'value': 84543},\n",
       " {'label': 'Mfsd6', 'value': 62852},\n",
       " {'label': 'Atp8a2', 'value': 30257},\n",
       " {'label': 'Ttbk1', 'value': 70928},\n",
       " {'label': 'Cc2d1b', 'value': 106900},\n",
       " {'label': 'Pou6f1', 'value': 18772},\n",
       " {'label': 'Abcf3', 'value': 27151},\n",
       " {'label': 'Ogdhl', 'value': 88512},\n",
       " {'label': 'Psat1', 'value': 71437},\n",
       " {'label': 'Ankrd28', 'value': 69687},\n",
       " {'label': 'St3gal6', 'value': 33904},\n",
       " {'label': 'Clgn', 'value': 12529},\n",
       " {'label': 'Dst', 'value': 13297},\n",
       " {'label': 'Ssbp2', 'value': 42813},\n",
       " {'label': 'Fitm2', 'value': 86798},\n",
       " {'label': 'Dlat', 'value': 88030},\n",
       " {'label': 'Chchd10', 'value': 67339},\n",
       " {'label': 'Trim37', 'value': 44571},\n",
       " {'label': 'Rnf157', 'value': 85181},\n",
       " {'label': 'Cabp7', 'value': 82958},\n",
       " {'label': 'Clcn2', 'value': 12508},\n",
       " {'label': 'Ndufb8', 'value': 43107},\n",
       " {'label': 'Rpp25', 'value': 66781},\n",
       " {'label': 'Tnni1', 'value': 21709},\n",
       " {'label': 'Capn2', 'value': 12119},\n",
       " {'label': 'Klc4', 'value': 50605},\n",
       " {'label': 'Eif2s3x', 'value': 26651},\n",
       " {'label': 'Alg1', 'value': 83950},\n",
       " {'label': 'Lgi3', 'value': 84562},\n",
       " {'label': 'Plekho1', 'value': 43063},\n",
       " {'label': 'Phlda3', 'value': 27025},\n",
       " {'label': 'Lmf1', 'value': 52324},\n",
       " {'label': 'Map2k6', 'value': 26147},\n",
       " {'label': 'Slc7a2', 'value': 11774},\n",
       " {'label': 'Cep78', 'value': 83982},\n",
       " {'label': 'Chp1', 'value': 35678},\n",
       " {'label': 'Ccr1', 'value': 12552},\n",
       " {'label': 'Fhod1', 'value': 87877},\n",
       " {'label': 'Kbtbd3', 'value': 44991},\n",
       " {'label': 'Kcnc3', 'value': 16277},\n",
       " {'label': 'Tsc1', 'value': 41454},\n",
       " {'label': 'Glrx5', 'value': 48887},\n",
       " {'label': 'Samd10', 'value': 86829},\n",
       " {'label': 'Atpaf2', 'value': 89944},\n",
       " {'label': 'Pttg1', 'value': 29929},\n",
       " {'label': 'Pir', 'value': 45497},\n",
       " {'label': 'Ypel4', 'value': 88858},\n",
       " {'label': 'Scn4b', 'value': 124782},\n",
       " {'label': 'Laptm4b', 'value': 76980},\n",
       " {'label': 'Tmem86b', 'value': 44098},\n",
       " {'label': 'Fdx1', 'value': 13925},\n",
       " {'label': 'Sec31a', 'value': 45004},\n",
       " {'label': 'Glrb', 'value': 14434},\n",
       " {'label': 'Uqcrh', 'value': 42419},\n",
       " {'label': 'Mafg', 'value': 16904},\n",
       " {'label': 'Sox10', 'value': 20427},\n",
       " {'label': 'Smim19', 'value': 66201},\n",
       " {'label': 'Uimc1', 'value': 19947},\n",
       " {'label': 'Ufm1', 'value': 43733},\n",
       " {'label': 'Zmat3', 'value': 22158},\n",
       " {'label': 'Hgsnat', 'value': 31600},\n",
       " {'label': 'Rabggta', 'value': 35470},\n",
       " {'label': 'Ephb1', 'value': 92948},\n",
       " {'label': 'Rps18', 'value': 19847},\n",
       " {'label': 'Atg3', 'value': 43684},\n",
       " {'label': 'Slc45a3', 'value': 84489},\n",
       " {'label': 'Rab10os', 'value': 50014},\n",
       " {'label': 'Fam103a1', 'value': 42991},\n",
       " {'label': 'Opn1sw', 'value': 11843},\n",
       " {'label': 'Hcn1', 'value': 14941},\n",
       " {'label': 'BC034090', 'value': 83899},\n",
       " {'label': 'Camsap3', 'value': 45538},\n",
       " {'label': 'Endod1', 'value': 47787},\n",
       " {'label': 'Slc38a2', 'value': 43603},\n",
       " {'label': 'A730096I18Rik*', 'value': 150064},\n",
       " {'label': 'Gm1335', 'value': 121203},\n",
       " {'label': 'Fbn2', 'value': 13896},\n",
       " {'label': 'Tc2n', 'value': 50254},\n",
       " {'label': 'Stx6', 'value': 37274},\n",
       " {'label': 'Cox5b', 'value': 12642},\n",
       " {'label': 'Acat3', 'value': 86098},\n",
       " {'label': 'Ubap1', 'value': 42966},\n",
       " {'label': 'Gsr', 'value': 14558},\n",
       " {'label': 'Spp1', 'value': 20512},\n",
       " {'label': 'Nkrf', 'value': 53126},\n",
       " {'label': 'Wdr89', 'value': 48179},\n",
       " {'label': 'Ap1m1', 'value': 11554},\n",
       " {'label': 'Gls2', 'value': 84969},\n",
       " {'label': 'Ctnnbl1', 'value': 42485},\n",
       " {'label': 'Shroom2', 'value': 74537},\n",
       " {'label': 'Rapgef5', 'value': 85296},\n",
       " {'label': 'Pcnxl2', 'value': 92924},\n",
       " {'label': 'Mcam', 'value': 58220},\n",
       " {'label': 'Chd3os', 'value': 56289},\n",
       " {'label': '3830406C13Rik', 'value': 85403},\n",
       " {'label': 'Ndufv1', 'value': 17762},\n",
       " {'label': 'S100b', 'value': 19966},\n",
       " {'label': 'Coprs', 'value': 42266},\n",
       " {'label': 'Qdpr', 'value': 74548},\n",
       " {'label': 'Emb', 'value': 13501},\n",
       " {'label': 'Cyp4f16', 'value': 45942},\n",
       " {'label': 'Casp14', 'value': 12150},\n",
       " {'label': 'Entpd4', 'value': 43307},\n",
       " {'label': 'Npc1', 'value': 17912},\n",
       " {'label': 'Tmem14a', 'value': 51553},\n",
       " {'label': 'Zik1', 'value': 22532},\n",
       " {'label': 'Pigz', 'value': 88627},\n",
       " {'label': 'Nxpe3', 'value': 121918},\n",
       " {'label': 'Zfp369', 'value': 82188},\n",
       " {'label': 'Zzz3', 'value': 73105},\n",
       " {'label': 'Bap1', 'value': 68581},\n",
       " {'label': 'Epc2', 'value': 86656},\n",
       " {'label': 'Kcna1', 'value': 16258},\n",
       " {'label': 'Ptcd2', 'value': 44769},\n",
       " {'label': 'Ndufaf5', 'value': 45329},\n",
       " {'label': 'Clec5a', 'value': 23598},\n",
       " {'label': 'Mpp1', 'value': 17292},\n",
       " {'label': 'Lrrc27', 'value': 52453},\n",
       " {'label': 'Ufd1l', 'value': 21987},\n",
       " {'label': 'Rapgef4', 'value': 35788},\n",
       " {'label': 'Coq10a', 'value': 84219},\n",
       " {'label': 'Nop10', 'value': 42024},\n",
       " {'label': 'Tmcc2', 'value': 44717},\n",
       " {'label': 'Pid1', 'value': 62666},\n",
       " {'label': 'Coq5', 'value': 31544},\n",
       " {'label': 'Zfp61', 'value': 22476},\n",
       " {'label': 'Cabp1', 'value': 29602},\n",
       " {'label': 'Lrrc61', 'value': 89073},\n",
       " {'label': 'Ndufs8', 'value': 86316},\n",
       " {'label': 'Psmd13', 'value': 23748},\n",
       " {'label': 'Exog', 'value': 83948},\n",
       " {'label': 'Flt4', 'value': 14034},\n",
       " {'label': 'Cgnl1', 'value': 44021},\n",
       " {'label': 'Aifm2', 'value': 47202},\n",
       " {'label': 'Ddx59', 'value': 43840},\n",
       " {'label': 'Arl8b', 'value': 43009},\n",
       " {'label': 'Igsf3', 'value': 54748},\n",
       " {'label': 'Fgf18', 'value': 13949},\n",
       " {'label': 'Rab3ip', 'value': 84955},\n",
       " {'label': 'Hpd', 'value': 15220},\n",
       " {'label': 'Skiv2l2', 'value': 48039},\n",
       " {'label': 'Ugt8a', 'value': 21996},\n",
       " {'label': 'Fntb', 'value': 74762},\n",
       " {'label': 'Ntng2', 'value': 82364},\n",
       " {'label': 'Usp8', 'value': 58303},\n",
       " {'label': 'Surf2', 'value': 20693},\n",
       " {'label': 'Tirap', 'value': 78445},\n",
       " {'label': 'Crtac1', 'value': 48673},\n",
       " {'label': 'Syn3', 'value': 26949},\n",
       " {'label': 'Fbxo31', 'value': 52295},\n",
       " {'label': 'Prcp', 'value': 48302},\n",
       " {'label': 'Chchd7', 'value': 42276},\n",
       " {'label': 'Trmt2b', 'value': 84779},\n",
       " {'label': 'Pnpt1', 'value': 47542},\n",
       " {'label': 'Med4', 'value': 43224},\n",
       " {'label': 'Daam2', 'value': 52282},\n",
       " {'label': 'Rln3', 'value': 84379},\n",
       " {'label': 'Fbxo33', 'value': 46452},\n",
       " {'label': 'Csnk1g2', 'value': 67403},\n",
       " {'label': 'Nr6a1', 'value': 14312},\n",
       " {'label': 'Thtpa', 'value': 69828},\n",
       " {'label': 'Adamtsl4', 'value': 86900},\n",
       " {'label': 'Nova1', 'value': 153432},\n",
       " {'label': 'Alox8', 'value': 11475},\n",
       " {'label': 'Nckipsd', 'value': 56698},\n",
       " {'label': 'Ankrd55', 'value': 53158},\n",
       " {'label': 'Entpd3', 'value': 84805},\n",
       " {'label': 'Nod1', 'value': 71772},\n",
       " {'label': 'Mrps35', 'value': 87440},\n",
       " {'label': 'Gadd45gip1', 'value': 66229},\n",
       " {'label': 'mCG1030693.1', 'value': 140022},\n",
       " {'label': 'Map1a', 'value': 17521},\n",
       " {'label': 'Echs1', 'value': 60399},\n",
       " {'label': 'Rnf4', 'value': 19585},\n",
       " {'label': 'Sept14', 'value': 50063},\n",
       " {'label': 'Has3', 'value': 14894},\n",
       " {'label': 'Mapk6', 'value': 30260},\n",
       " {'label': 'Hrasls5', 'value': 42570},\n",
       " {'label': 'Krt222', 'value': 92504},\n",
       " {'label': 'Acadl', 'value': 11193},\n",
       " {'label': 'Lmna', 'value': 16675},\n",
       " {'label': 'Napg', 'value': 72283},\n",
       " {'label': 'Bmpr1b', 'value': 11953},\n",
       " {'label': 'Cadps', 'value': 26807},\n",
       " {'label': 'Lrrc75b', 'value': 82996},\n",
       " {'label': 'Camkmt', 'value': 49423},\n",
       " {'label': 'Hs6st3', 'value': 30275},\n",
       " {'label': 'Abhd17a', 'value': 84928},\n",
       " {'label': 'mCG140369.1', 'value': 140946},\n",
       " {'label': 'Smg6', 'value': 67844},\n",
       " {'label': 'D17H6S53E', 'value': 77317},\n",
       " {'label': 'Cyb5r1', 'value': 47858},\n",
       " {'label': 'Ubxn8', 'value': 72319},\n",
       " {'label': 'Ndufa3', 'value': 41934},\n",
       " {'label': 'Mrpl12', 'value': 35562},\n",
       " {'label': 'Jmy', 'value': 37020},\n",
       " {'label': 'Eif3j1', 'value': 54495},\n",
       " {'label': 'Xpo4', 'value': 36534},\n",
       " {'label': 'Plscr5', 'value': 109035},\n",
       " {'label': 'Esrrb', 'value': 26128},\n",
       " {'label': 'Wdr59', 'value': 106416},\n",
       " {'label': 'Mapk12', 'value': 29592},\n",
       " {'label': 'Zzef1', 'value': 83284},\n",
       " {'label': 'Rnmtl1', 'value': 43233},\n",
       " {'label': 'Fam73a', 'value': 84841},\n",
       " {'label': 'Asap1', 'value': 12976},\n",
       " {'label': 'Psmb1', 'value': 18933},\n",
       " {'label': 'Coq6', 'value': 85252},\n",
       " {'label': 'Tdrp', 'value': 47989},\n",
       " {'label': 'Tspan17', 'value': 50098},\n",
       " {'label': 'Asns', 'value': 26798},\n",
       " {'label': 'Myl4', 'value': 17663},\n",
       " {'label': '6330444E15Rik', 'value': 135708},\n",
       " {'label': 'Frmd4b', 'value': 87395},\n",
       " {'label': 'Osbpl7', 'value': 47081},\n",
       " {'label': 'Mocs2', 'value': 17202},\n",
       " {'label': 'Aftph', 'value': 85003},\n",
       " {'label': 'Ank', 'value': 11519},\n",
       " {'label': 'Mob2', 'value': 65683},\n",
       " {'label': 'Bcas1', 'value': 52800},\n",
       " {'label': 'B3galt5', 'value': 60609},\n",
       " {'label': 'Kcnh7', 'value': 82041},\n",
       " {'label': 'Gmppa', 'value': 44922},\n",
       " {'label': 'Ccser2', 'value': 48813},\n",
       " {'label': 'Ikbip', 'value': 43297},\n",
       " {'label': 'Tmem151b', 'value': 84218},\n",
       " {'label': 'Mxi1', 'value': 17626},\n",
       " {'label': 'Senp5', 'value': 107148},\n",
       " {'label': 'Lrp3', 'value': 132526},\n",
       " {'label': 'Gjb1', 'value': 14394},\n",
       " {'label': 'Taf1b', 'value': 21101},\n",
       " {'label': 'Rpp14', 'value': 42896},\n",
       " {'label': 'Vps39', 'value': 92723},\n",
       " {'label': 'Dhh', 'value': 13143},\n",
       " {'label': 'Atg2a', 'value': 108586},\n",
       " {'label': 'Kcng4', 'value': 42576},\n",
       " {'label': 'Fa2h', 'value': 109513},\n",
       " {'label': '1700009N14Rik', 'value': 51312},\n",
       " {'label': 'Dhx38', 'value': 40941},\n",
       " {'label': 'Cisd1', 'value': 32117},\n",
       " {'label': 'Tnfrsf21', 'value': 60826},\n",
       " {'label': 'LOC436548', 'value': 133099},\n",
       " {'label': 'H1fnt', 'value': 45910},\n",
       " {'label': 'Polr3a', 'value': 85416},\n",
       " {'label': 'March2', 'value': 86130},\n",
       " {'label': 'Cops4', 'value': 26637},\n",
       " {'label': 'Camk1g', 'value': 84789},\n",
       " {'label': 'Ttc21b', 'value': 49509},\n",
       " {'label': 'Limch1', 'value': 53409},\n",
       " {'label': 'Gm1673', 'value': 120328},\n",
       " {'label': 'Tmem229b', 'value': 92529},\n",
       " {'label': 'Ostf1', 'value': 20172},\n",
       " {'label': 'Pnpla6', 'value': 30255},\n",
       " {'label': '2700089E24Rik', 'value': 120414},\n",
       " {'label': 'Bche', 'value': 11824},\n",
       " {'label': 'Ndufb6', 'value': 86988},\n",
       " {'label': 'Ccbl2', 'value': 86967},\n",
       " {'label': 'Nabp1', 'value': 73178},\n",
       " {'label': 'Exoc4', 'value': 20099},\n",
       " {'label': 'Gmpr', 'value': 42198},\n",
       " {'label': 'LOC329248', 'value': 108630},\n",
       " {'label': '4930453L07Rik', 'value': 50529},\n",
       " {'label': 'Atpaf1', 'value': 87074},\n",
       " {'label': 'Slc25a10', 'value': 27121},\n",
       " {'label': 'Olfr368', 'value': 91168},\n",
       " {'label': 'Dip2c', 'value': 83976},\n",
       " {'label': 'Snrnp48', 'value': 43640},\n",
       " {'label': 'Prss12', 'value': 18905},\n",
       " {'label': 'Zfp382', 'value': 87561},\n",
       " {'label': 'Cox14', 'value': 42222},\n",
       " {'label': 'Yif1b', 'value': 53094},\n",
       " {'label': 'Ruvbl1', 'value': 35785},\n",
       " {'label': 'Serpina3k', 'value': 20476},\n",
       " {'label': 'Map2k3', 'value': 26145},\n",
       " {'label': 'Rnf13', 'value': 23768},\n",
       " {'label': 'Fbxo34', 'value': 54778},\n",
       " {'label': 'Taf7', 'value': 23825},\n",
       " {'label': 'Pde6g', 'value': 18354},\n",
       " {'label': 'Coil', 'value': 12595},\n",
       " {'label': 'Dnajb1', 'value': 57199},\n",
       " {'label': 'Galnt6', 'value': 83905},\n",
       " {'label': 'B930041F14Rik', 'value': 87167},\n",
       " {'label': 'Cd164', 'value': 32917},\n",
       " {'label': 'Melk', 'value': 17048},\n",
       " {'label': '2700081O15Rik', 'value': 73058},\n",
       " {'label': 'LOC433081', 'value': 129667},\n",
       " {'label': 'Dync1i1', 'value': 13205},\n",
       " {'label': 'Mrpl47', 'value': 50441},\n",
       " {'label': 'Slc25a33', 'value': 46397},\n",
       " {'label': 'Sae1', 'value': 35739},\n",
       " {'label': 'Atp5sl', 'value': 42192},\n",
       " {'label': 'Fam92a', 'value': 43942},\n",
       " {'label': 'Dad1', 'value': 12915},\n",
       " {'label': 'Parvg', 'value': 40732},\n",
       " {'label': 'Zfp955a', 'value': 53492},\n",
       " {'label': 'Ddx1', 'value': 68886},\n",
       " {'label': '9030617O03Rik', 'value': 85270},\n",
       " {'label': 'Map1lc3b', 'value': 43286},\n",
       " {'label': 'Rdx', 'value': 19447},\n",
       " {'label': '1700021F05Rik', 'value': 43694},\n",
       " {'label': 'Pdcd6ip', 'value': 18337},\n",
       " {'label': 'Mm.26272', 'value': 139402},\n",
       " {'label': 'Ttc9', 'value': 45322},\n",
       " {'label': 'Tmem199', 'value': 83287},\n",
       " {'label': 'Phospho1', 'value': 88399},\n",
       " {'label': 'Pgp', 'value': 42921},\n",
       " {'label': 'Mul1', 'value': 44192},\n",
       " {'label': 'Esrrg', 'value': 26129},\n",
       " {'label': 'Apaf1', 'value': 11570},\n",
       " {'label': 'Lpin1', 'value': 14022},\n",
       " {'label': 'Plaa', 'value': 18550},\n",
       " {'label': 'Scamp3', 'value': 23796},\n",
       " {'label': 'Mecr', 'value': 26668},\n",
       " {'label': 'Sstr3', 'value': 20369},\n",
       " {'label': 'Cd34', 'value': 12275},\n",
       " {'label': 'Kifc3', 'value': 16355},\n",
       " {'label': 'Psme4', 'value': 67721},\n",
       " {'label': 'Xk', 'value': 22196},\n",
       " {'label': 'Mme', 'value': 17148},\n",
       " {'label': 'Gpr125', 'value': 46534},\n",
       " {'label': 'LOC436510', 'value': 133062},\n",
       " {'label': 'Glrx3', 'value': 29916},\n",
       " {'label': 'Tmem147', 'value': 45645},\n",
       " {'label': 'Ermp1', 'value': 86350},\n",
       " {'label': 'Pde7a', 'value': 18349},\n",
       " {'label': 'Cmpk2', 'value': 21926},\n",
       " {'label': 'Poglut1', 'value': 86062},\n",
       " {'label': 'BC023829', 'value': 88241},\n",
       " {'label': 'Plxna4', 'value': 89119},\n",
       " {'label': 'Exoc3l', 'value': 93353},\n",
       " {'label': 'Kcnj11', 'value': 16287},\n",
       " {'label': 'Acp1', 'value': 11220},\n",
       " {'label': 'Myeov2', 'value': 42758},\n",
       " {'label': 'Trappc1', 'value': 89476},\n",
       " {'label': 'Gatad2a', 'value': 87820},\n",
       " {'label': 'Sart3', 'value': 33185},\n",
       " {'label': 'Agtr2', 'value': 11396},\n",
       " {'label': 'Slc6a15', 'value': 67265},\n",
       " {'label': 'Mpp5', 'value': 35500},\n",
       " {'label': '1110057K04Rik', 'value': 44674},\n",
       " {'label': 'Apobec2', 'value': 11598},\n",
       " {'label': 'Plp1', 'value': 18587},\n",
       " {'label': 'Fkbp3', 'value': 29786},\n",
       " {'label': 'Slc9a9', 'value': 109037},\n",
       " {'label': 'Abcf2', 'value': 27152},\n",
       " {'label': 'Smek1', 'value': 44576},\n",
       " {'label': 'Wars', 'value': 22132},\n",
       " {'label': 'Ttc7', 'value': 86203},\n",
       " {'label': 'Ythdc2', 'value': 88696},\n",
       " {'label': 'Acat2', 'value': 74616},\n",
       " {'label': 'P2rx6', 'value': 18207},\n",
       " {'label': 'Golph3', 'value': 42472},\n",
       " {'label': 'Samd4', 'value': 50321},\n",
       " {'label': 'Hectd1', 'value': 83858},\n",
       " {'label': 'Lyst', 'value': 16871},\n",
       " {'label': 'Tbc1d9', 'value': 47151},\n",
       " {'label': 'Gle1', 'value': 50253},\n",
       " {'label': 'Csk', 'value': 12771},\n",
       " {'label': 'Mslnl', 'value': 108529},\n",
       " {'label': 'Eml4', 'value': 54638},\n",
       " {'label': 'Itsn2', 'value': 20166},\n",
       " {'label': 'Paip1', 'value': 85395},\n",
       " {'label': 'Arl2', 'value': 35607},\n",
       " {'label': 'A530057D15Rik*', 'value': 150036},\n",
       " {'label': 'Bivm', 'value': 89733},\n",
       " {'label': 'Def6', 'value': 23606},\n",
       " {'label': 'Dna2', 'value': 108297},\n",
       " {'label': 'Cdv3', 'value': 107957},\n",
       " {'label': 'Gpx4', 'value': 157934},\n",
       " {'label': 'Bicd1', 'value': 11907},\n",
       " {'label': 'Gm1127', 'value': 120547},\n",
       " {'label': 'Fam212a', 'value': 44019},\n",
       " {'label': 'Rpp30', 'value': 33655},\n",
       " {'label': 'Ihh', 'value': 15920},\n",
       " {'label': 'Akr1b7', 'value': 11783},\n",
       " {'label': 'Ndufb3', 'value': 42338},\n",
       " {'label': 'Kif21a', 'value': 16337},\n",
       " {'label': 'Cast', 'value': 12165},\n",
       " {'label': 'Tmem143', 'value': 46050},\n",
       " {'label': 'Fam98c', 'value': 49674},\n",
       " {'label': 'Gprc5b', 'value': 40898},\n",
       " {'label': 'Fen1', 'value': 13933},\n",
       " {'label': 'Tmem25', 'value': 47528},\n",
       " {'label': 'Lancl3', 'value': 88168},\n",
       " {'label': 'Vgll4', 'value': 87402},\n",
       " {'label': 'LOC433348', 'value': 129932},\n",
       " {'label': 'Rnf166', 'value': 44560},\n",
       " {'label': 'Gm5654', 'value': 131883},\n",
       " {'label': 'Zbtb16', 'value': 88024},\n",
       " {'label': 'Sacs', 'value': 30208},\n",
       " {'label': 'Pim3', 'value': 85977},\n",
       " {'label': 'Mrpl19', 'value': 35564},\n",
       " {'label': 'Psmd1', 'value': 46088},\n",
       " {'label': 'Dis3l', 'value': 84579},\n",
       " {'label': 'Azin2', 'value': 88992},\n",
       " {'label': 'Gpr157', 'value': 92788},\n",
       " {'label': 'Rps4x', 'value': 19865},\n",
       " {'label': 'Entpd7', 'value': 60337},\n",
       " {'label': 'Gm9732', 'value': 49256},\n",
       " {'label': 'Slc39a5', 'value': 47843},\n",
       " {'label': 'Adamtsl5', 'value': 42391},\n",
       " {'label': 'Serpina3c', 'value': 16398},\n",
       " {'label': 'Vav2', 'value': 22082},\n",
       " {'label': 'Atp6v1g1', 'value': 42133},\n",
       " {'label': 'Pgf', 'value': 18420},\n",
       " {'label': 'Mroh4', 'value': 45281},\n",
       " {'label': 'Usp54', 'value': 54627},\n",
       " {'label': 'Thumpd2', 'value': 48008},\n",
       " {'label': 'Ryr2', 'value': 19954},\n",
       " {'label': 'Hlcs', 'value': 75101},\n",
       " {'label': 'Nuak2', 'value': 49978},\n",
       " {'label': 'Gm5510', 'value': 129801},\n",
       " {'label': 'Rltpr', 'value': 87879},\n",
       " {'label': 'Crhr1', 'value': 12704},\n",
       " {'label': 'Mm.360169', 'value': 139878},\n",
       " {'label': 'Cd164l2', 'value': 45496},\n",
       " {'label': '1200007C13Rik', 'value': 49960},\n",
       " {'label': 'Slu7', 'value': 83066},\n",
       " {'label': 'Mm.336072', 'value': 139803},\n",
       " {'label': 'Psmf1', 'value': 86768},\n",
       " {'label': 'B230398E24Rik*', 'value': 150104},\n",
       " {'label': 'Adprm', 'value': 42201},\n",
       " {'label': 'Fam69a', 'value': 43109},\n",
       " {'label': 'LOC385403', 'value': 121816},\n",
       " {'label': 'Lrrc47', 'value': 48787},\n",
       " {'label': 'Socs5', 'value': 35748},\n",
       " {'label': '4930590J08Rik', 'value': 120399},\n",
       " {'label': 'Pcid2', 'value': 87780},\n",
       " {'label': 'Rfk', 'value': 33682},\n",
       " {'label': 'Rnf219', 'value': 48327},\n",
       " {'label': 'Manea', 'value': 88941},\n",
       " {'label': 'Agmat', 'value': 51827},\n",
       " {'label': 'LOC433117', 'value': 129703},\n",
       " {'label': 'Paqr9', 'value': 51393},\n",
       " {'label': 'Tmem63a', 'value': 84021},\n",
       " {'label': 'Tufm', 'value': 87739},\n",
       " {'label': 'Osgepl1', 'value': 47926},\n",
       " {'label': 'Yipf1', 'value': 87055},\n",
       " {'label': 'Larp4', 'value': 83848},\n",
       " {'label': 'Grsf1', 'value': 87238},\n",
       " {'label': 'Myrf', 'value': 86323},\n",
       " {'label': 'Hif1an', 'value': 106529},\n",
       " {'label': 'Ranbp3', 'value': 47651},\n",
       " {'label': 'Igdcc4', 'value': 36020},\n",
       " {'label': 'Zfp740', 'value': 44586},\n",
       " {'label': 'Nup54', 'value': 92670},\n",
       " {'label': 'Triap1', 'value': 44918},\n",
       " {'label': 'Grm3', 'value': 72231},\n",
       " {'label': 'Kiz', 'value': 86763},\n",
       " {'label': 'Tmem55a', 'value': 48360},\n",
       " {'label': 'Txnrd3', 'value': 87388},\n",
       " {'label': 'Tbc1d15', 'value': 42530},\n",
       " {'label': 'Gmnn', 'value': 36714},\n",
       " {'label': 'Fbxo28', 'value': 43791},\n",
       " {'label': 'Tns1', 'value': 21718},\n",
       " {'label': 'Fbxl17', 'value': 30246},\n",
       " {'label': 'Parg', 'value': 26178},\n",
       " {'label': 'Lgals1', 'value': 16623},\n",
       " {'label': 'Arhgef10', 'value': 87786},\n",
       " {'label': 'Micu3', 'value': 54346},\n",
       " {'label': 'Kcmf1', 'value': 50128},\n",
       " {'label': 'Fbxw8', 'value': 87293},\n",
       " {'label': 'G0s2', 'value': 14149},\n",
       " {'label': 'Cul5', 'value': 51558},\n",
       " {'label': 'Lgi1', 'value': 36118},\n",
       " {'label': 'Slc35c2', 'value': 86804},\n",
       " {'label': 'TC1560604', 'value': 138132},\n",
       " {'label': 'Npas1', 'value': 17909},\n",
       " {'label': 'Mcpt8', 'value': 17000},\n",
       " {'label': 'Cacng7', 'value': 57576},\n",
       " {'label': 'Vps41', 'value': 85304},\n",
       " {'label': 'Rhog', 'value': 35495},\n",
       " {'label': 'Ms4a6d', 'value': 44616},\n",
       " {'label': 'Il12b', 'value': 15933},\n",
       " {'label': 'Slc44a1', 'value': 64604},\n",
       " {'label': 'Pkn3', 'value': 92236},\n",
       " {'label': 'Stk38l', 'value': 87438},\n",
       " {'label': 'Aff3', 'value': 16536},\n",
       " {'label': 'Ptp4a2', 'value': 19007},\n",
       " {'label': 'Ddx49', 'value': 87823},\n",
       " {'label': 'Ulk1', 'value': 21998},\n",
       " {'label': 'Mcts1', 'value': 44837},\n",
       " {'label': 'Tcp11l1', 'value': 107489},\n",
       " {'label': 'Polr1c', 'value': 19779},\n",
       " {'label': 'Anxa4', 'value': 11533},\n",
       " {'label': 'Mpc2', 'value': 46297},\n",
       " {'label': 'AF529169', 'value': 84142},\n",
       " {'label': 'D830029A09Rik', 'value': 128486},\n",
       " {'label': 'Nap1l4', 'value': 17722},\n",
       " {'label': 'Tmem65', 'value': 50709},\n",
       " {'label': 'Msrb2', 'value': 52308},\n",
       " {'label': 'Mog', 'value': 17209},\n",
       " {'label': 'Lypla1', 'value': 18541},\n",
       " {'label': 'Carns1', 'value': 71404},\n",
       " {'label': 'Mff', 'value': 51575},\n",
       " {'label': 'Nudt19', 'value': 75112},\n",
       " {'label': 'Fgfr1op2', 'value': 43372},\n",
       " {'label': 'Mblac2', 'value': 48693},\n",
       " {'label': 'Apobr', 'value': 82649},\n",
       " {'label': 'Aars', 'value': 87892},\n",
       " {'label': 'Lysmd1', 'value': 85264},\n",
       " {'label': 'Pls1', 'value': 66669},\n",
       " {'label': 'I0C0044D17Rik', 'value': 144024},\n",
       " {'label': 'Slc16a1', 'value': 20263},\n",
       " {'label': 'Gdap2', 'value': 14323},\n",
       " {'label': 'Pin4', 'value': 45554},\n",
       " {'label': 'Rtn2', 'value': 19930},\n",
       " {'label': 'Sap30l', 'value': 30212},\n",
       " {'label': 'Sv2c', 'value': 51050},\n",
       " {'label': 'Cox5a', 'value': 12641},\n",
       " {'label': 'Cldnd1', 'value': 86073},\n",
       " {'label': 'Gpr75', 'value': 88363},\n",
       " {'label': 'Lrrc49', 'value': 66914},\n",
       " {'label': 'Sec24b', 'value': 63853},\n",
       " {'label': 'Lipa', 'value': 16659},\n",
       " {'label': 'Map2k7', 'value': 26148},\n",
       " {'label': 'Ttyh2', 'value': 78456},\n",
       " {'label': 'Brsk2', 'value': 51611},\n",
       " {'label': 'Dusp15', 'value': 89980},\n",
       " {'label': 'Trappc12', 'value': 85205},\n",
       " {'label': 'Mon1a', 'value': 48666},\n",
       " {'label': 'Aco2', 'value': 11218},\n",
       " {'label': 'Gm5478', 'value': 129575},\n",
       " {'label': 'Ap5z1', 'value': 87321},\n",
       " {'label': 'Zfand2a', 'value': 64664},\n",
       " {'label': 'Snf8', 'value': 27425},\n",
       " {'label': 'Fibcd1', 'value': 63140},\n",
       " {'label': 'Irx2', 'value': 16145},\n",
       " {'label': 'Lamtor4', 'value': 41939},\n",
       " {'label': 'Tbc1d5', 'value': 48079},\n",
       " {'label': 'Ndufs6', 'value': 128183},\n",
       " {'label': 'Tm2d1', 'value': 60690},\n",
       " {'label': 'Qsox1', 'value': 68176},\n",
       " {'label': 'Nudt4', 'value': 47048},\n",
       " {'label': 'Lrrtm3', 'value': 84893},\n",
       " {'label': 'Zfp212', 'value': 87477},\n",
       " {'label': 'Tnfsf13b', 'value': 23850},\n",
       " {'label': 'Comtd1', 'value': 44998},\n",
       " {'label': 'LOC670796', 'value': 153830},\n",
       " {'label': 'Gpm6b', 'value': 14534},\n",
       " {'label': 'Daf2', 'value': 12917},\n",
       " {'label': 'Ept1', 'value': 27786},\n",
       " {'label': 'Phldb1', 'value': 66860},\n",
       " {'label': 'Gm830', 'value': 108774},\n",
       " {'label': 'Nf1', 'value': 17782},\n",
       " {'label': 'Thoc5', 'value': 71991},\n",
       " {'label': 'St3gal1', 'value': 20205},\n",
       " {'label': 'Adck1', 'value': 47954},\n",
       " {'label': 'Pdcd2', 'value': 18333},\n",
       " {'label': 'Tbca', 'value': 21132},\n",
       " {'label': 'Faf1', 'value': 13861},\n",
       " {'label': 'Ubash3b', 'value': 48669},\n",
       " {'label': 'Arl16', 'value': 46158},\n",
       " {'label': 'Camkk1', 'value': 35269},\n",
       " {'label': 'Phyhipl', 'value': 46752},\n",
       " {'label': 'H2-Ob', 'value': 14778},\n",
       " {'label': 'Abcb8', 'value': 50451},\n",
       " {'label': 'Usp5', 'value': 21982},\n",
       " {'label': 'Rtkn', 'value': 19929},\n",
       " {'label': 'Plcxd2', 'value': 129609},\n",
       " {'label': 'Unc5a', 'value': 71613},\n",
       " {'label': 'Ppl', 'value': 18804},\n",
       " {'label': 'Bid', 'value': 11908},\n",
       " {'label': 'Akr1c18', 'value': 69514},\n",
       " {'label': 'Timm8a1', 'value': 29769},\n",
       " {'label': 'Aifm1', 'value': 26671},\n",
       " {'label': 'Polg', 'value': 18738},\n",
       " {'label': 'Cryab', 'value': 12738},\n",
       " {'label': 'Kif13b', 'value': 16327},\n",
       " {'label': 'Dcbld2', 'value': 49220},\n",
       " {'label': 'Pmfbp1', 'value': 35803},\n",
       " {'label': 'Sstr5', 'value': 20371},\n",
       " {'label': 'Wdr11', 'value': 83869},\n",
       " {'label': 'Zfp398', 'value': 93056},\n",
       " {'label': 'Gas2', 'value': 14229},\n",
       " {'label': 'Gpt', 'value': 52123},\n",
       " {'label': '1600014K23Rik', 'value': 47837},\n",
       " {'label': '2010111I01Rik', 'value': 47902},\n",
       " {'label': 'Itgb4', 'value': 83025},\n",
       " {'label': 'Mad1l1', 'value': 16890},\n",
       " {'label': 'Epdr1', 'value': 69463},\n",
       " {'label': 'Ndufab1', 'value': 46157},\n",
       " {'label': 'Naa10', 'value': 35572},\n",
       " {'label': 'Gab2', 'value': 14165},\n",
       " {'label': 'Hrsp12', 'value': 15248},\n",
       " {'label': 'Prmt7', 'value': 84698},\n",
       " {'label': 'Tmprss5', 'value': 56663},\n",
       " {'label': 'Bag2', 'value': 84575},\n",
       " {'label': 'Fbxo11', 'value': 86204},\n",
       " {'label': 'Hapln2', 'value': 49781},\n",
       " {'label': 'Mrps9', 'value': 45369},\n",
       " {'label': 'Commd9', 'value': 52342},\n",
       " {'label': 'Cerk', 'value': 85972},\n",
       " {'label': 'Wdr7', 'value': 68248},\n",
       " {'label': 'Athl1', 'value': 84488},\n",
       " {'label': 'Gm4791', 'value': 84809},\n",
       " {'label': 'Ano10', 'value': 66733},\n",
       " {'label': 'Ccdc25', 'value': 43022},\n",
       " {'label': 'Wdr70', 'value': 144403},\n",
       " {'label': 'Ccdc87', 'value': 124829},\n",
       " {'label': 'LOC384546', 'value': 121482},\n",
       " {'label': 'Pycr2', 'value': 44893},\n",
       " {'label': 'Sclt1', 'value': 43004},\n",
       " {'label': 'Arhgap15', 'value': 51958},\n",
       " {'label': '3110002H16Rik', 'value': 52323},\n",
       " {'label': 'Psma7', 'value': 26192},\n",
       " {'label': 'Chmp3', 'value': 42543},\n",
       " {'label': 'XM_356036', 'value': 120483},\n",
       " {'label': 'Tango2', 'value': 27627},\n",
       " {'label': 'Sgtb', 'value': 85382},\n",
       " {'label': 'Sema3e', 'value': 20112},\n",
       " {'label': 'TC1533832', 'value': 137382},\n",
       " {'label': 'Trnau1ap', 'value': 47628},\n",
       " {'label': 'Camta1', 'value': 64242},\n",
       " {'label': 'Lsm4', 'value': 30271},\n",
       " {'label': 'Cyp2s1', 'value': 49975},\n",
       " {'label': 'Tars2', 'value': 47648},\n",
       " {'label': 'Siae', 'value': 22376},\n",
       " {'label': 'Hcn2', 'value': 14942},\n",
       " {'label': 'Ube2n', 'value': 60417},\n",
       " {'label': 'Iqch', 'value': 54090},\n",
       " {'label': 'P2ry2', 'value': 18209},\n",
       " {'label': 'Adam33', 'value': 74907},\n",
       " {'label': 'Cckbr', 'value': 12211},\n",
       " {'label': 'Gm9517', 'value': 42950},\n",
       " {'label': 'Tex30', 'value': 51464},\n",
       " {'label': 'Ociad1', 'value': 43938},\n",
       " {'label': 'Ypel5', 'value': 120986},\n",
       " {'label': 'Inhba', 'value': 16096},\n",
       " {'label': 'Exosc8', 'value': 45480},\n",
       " {'label': 'LOC210619', 'value': 84222},\n",
       " {'label': 'Tex10', 'value': 92770},\n",
       " {'label': 'Wdfy2', 'value': 92575},\n",
       " {'label': 'Aldh3a1', 'value': 11457},\n",
       " {'label': 'Fstl1', 'value': 14090},\n",
       " {'label': 'Strn', 'value': 92636},\n",
       " {'label': 'Ttll11', 'value': 50251},\n",
       " {'label': 'Pphln1', 'value': 85985},\n",
       " {'label': 'Hmbox1', 'value': 85487},\n",
       " {'label': 'Impa2', 'value': 77390},\n",
       " {'label': 'Bend6', 'value': 107640},\n",
       " {'label': 'Chpf2', 'value': 65080},\n",
       " {'label': 'Litaf', 'value': 36001},\n",
       " {'label': 'Fbxo46', 'value': 89143},\n",
       " {'label': 'Anks1', 'value': 86119},\n",
       " {'label': 'Ypel3', 'value': 41933},\n",
       " {'label': 'Golt1b', 'value': 42807},\n",
       " {'label': 'Scpep1', 'value': 50458},\n",
       " {'label': 'A730080H06Rik', 'value': 107038},\n",
       " {'label': 'Scrn3', 'value': 50457},\n",
       " {'label': 'Mdga1', 'value': 50603},\n",
       " {'label': 'Ikbkap', 'value': 87014},\n",
       " {'label': 'Dnajc18', 'value': 52435},\n",
       " {'label': '4930451G09Rik', 'value': 50525},\n",
       " {'label': 'Tamm41', 'value': 44813},\n",
       " {'label': 'Tstd3', 'value': 52872},\n",
       " {'label': 'Yaf2', 'value': 42900},\n",
       " {'label': 'Papd7', 'value': 84177},\n",
       " {'label': 'Gnpda1', 'value': 26132},\n",
       " {'label': 'Klk6', 'value': 18907},\n",
       " {'label': 'Serpini1', 'value': 20475},\n",
       " {'label': 'Glcci1', 'value': 82074},\n",
       " {'label': 'Hecw1', 'value': 60885},\n",
       " {'label': 'Sec24a', 'value': 53211},\n",
       " {'label': 'Samd15', 'value': 88447},\n",
       " {'label': 'LOC547026', 'value': 143861},\n",
       " {'label': 'Dgcr6', 'value': 13133},\n",
       " {'label': 'Mrs2', 'value': 119956},\n",
       " {'label': 'Sgk1', 'value': 20156},\n",
       " {'label': 'Tmem43', 'value': 49963},\n",
       " {'label': 'S100a14', 'value': 42009},\n",
       " {'label': '4930544G11Rik', 'value': 43496},\n",
       " {'label': 'Mlxip', 'value': 83930},\n",
       " {'label': 'Tmem216', 'value': 44484},\n",
       " {'label': 'Eml2', 'value': 48046},\n",
       " {'label': 'Aoc2', 'value': 88402},\n",
       " {'label': 'AW046396', 'value': 108620},\n",
       " {'label': 'Nap1l2', 'value': 17721},\n",
       " {'label': 'Vmn1r82', 'value': 82459},\n",
       " {'label': 'Cript', 'value': 36003},\n",
       " {'label': 'Gdf7', 'value': 88417},\n",
       " {'label': 'Apoo', 'value': 44158},\n",
       " {'label': 'Mrps36', 'value': 41971},\n",
       " {'label': 'Ift80', 'value': 44102},\n",
       " {'label': 'Ranbp1', 'value': 19148},\n",
       " {'label': 'Fam175b', 'value': 73518},\n",
       " {'label': 'Cygb', 'value': 77604},\n",
       " {'label': 'Wdr81', 'value': 82960},\n",
       " {'label': 'Eif3f', 'value': 41928},\n",
       " {'label': 'LOC435618', 'value': 132189},\n",
       " {'label': 'Mm.359728', 'value': 139873},\n",
       " {'label': 'Celsr2', 'value': 33178},\n",
       " {'label': 'Mcf2', 'value': 74061},\n",
       " {'label': 'Apc2', 'value': 23558},\n",
       " {'label': 'A830080L01Rik', 'value': 107135},\n",
       " {'label': 'Uqcr10', 'value': 41995},\n",
       " {'label': 'Ube2v1', 'value': 42432},\n",
       " {'label': 'Tnnc2', 'value': 21682},\n",
       " {'label': 'Lrpprc', 'value': 48257},\n",
       " {'label': 'Mastl', 'value': 42964},\n",
       " {'label': 'Ncapd2', 'value': 44140},\n",
       " {'label': 'Syndig1', 'value': 130068},\n",
       " {'label': 'Retsat', 'value': 43285},\n",
       " {'label': 'Slc28a2', 'value': 92726},\n",
       " {'label': 'Lzts2', 'value': 86371},\n",
       " {'label': 'Tfrc', 'value': 21799},\n",
       " {'label': 'Il11ra2', 'value': 15931},\n",
       " {'label': 'Mien1', 'value': 67909},\n",
       " {'label': 'Cpm', 'value': 46415},\n",
       " {'label': 'Ankrd50', 'value': 63866},\n",
       " {'label': '5730405G21Rik', 'value': 107520},\n",
       " {'label': 'Tmem184c', 'value': 87840},\n",
       " {'label': 'Eif3k', 'value': 49671},\n",
       " {'label': 'Atg2b', 'value': 52400},\n",
       " {'label': 'Gab1', 'value': 14164},\n",
       " {'label': 'Rnf144b', 'value': 85324},\n",
       " {'label': 'Rbx1', 'value': 35718},\n",
       " {'label': 'Naa60', 'value': 50604},\n",
       " {'label': 'Prdx3', 'value': 11544},\n",
       " {'label': 'Slc7a14', 'value': 88897},\n",
       " {'label': 'Slc39a9', 'value': 108386},\n",
       " {'label': 'Pdcd10', 'value': 35706},\n",
       " {'label': 'Exoc2', 'value': 42325},\n",
       " {'label': 'Eif4e', 'value': 13462},\n",
       " {'label': 'N4bp3', 'value': 84454},\n",
       " {'label': 'Hoxc4', 'value': 15198},\n",
       " {'label': 'D1Pas1', 'value': 75110},\n",
       " {'label': 'Chpf', 'value': 50082},\n",
       " {'label': 'Prdx5', 'value': 33974},\n",
       " {'label': 'mCG146432', 'value': 141246},\n",
       " {'label': 'Ccdc174', 'value': 87391},\n",
       " {'label': 'Ralgapa2', 'value': 88879},\n",
       " {'label': 'Itpr3', 'value': 16213},\n",
       " {'label': 'Pi4k2a', 'value': 58306},\n",
       " {'label': 'Slc6a8', 'value': 67024},\n",
       " {'label': '1700023F06Rik', 'value': 45283},\n",
       " {'label': 'BC028450', 'value': 92879},\n",
       " {'label': 'Fundc1', 'value': 47859},\n",
       " {'label': 'Sec11c', 'value': 42129},\n",
       " {'label': 'Aspa', 'value': 11272},\n",
       " {'label': 'Recql4', 'value': 55261},\n",
       " {'label': 'Gm11568', 'value': 129189},\n",
       " {'label': 'Pkn1', 'value': 107730},\n",
       " {'label': 'Tgfbrap1', 'value': 48963},\n",
       " {'label': 'Spire2', 'value': 87916},\n",
       " {'label': 'LOC386468', 'value': 121997},\n",
       " {'label': 'Ndufc1', 'value': 42220},\n",
       " {'label': 'Atp1b3', 'value': 11719},\n",
       " {'label': 'Pklr', 'value': 18534},\n",
       " {'label': 'Ccdc66', 'value': 107169},\n",
       " {'label': 'Abcc8', 'value': 20689},\n",
       " {'label': 'C630049E18Rik*', 'value': 150156},\n",
       " ...]"
      ]
     },
     "execution_count": 9,
     "metadata": {},
     "output_type": "execute_result"
    }
   ],
   "source": [
    "dataPath = \".\\data\\originalData\\data_SD4.xlsx\"\n",
    "\n",
    "df = pd.read_excel(dataPath, header=0, index_col=0)\n",
    "\n",
    "dictList = []\n",
    "for idx, row in df.iterrows():\n",
    "    temp = {'label':idx,'value':row['gene_AGEA_id']}\n",
    "    dictList.append(temp)\n",
    "\n",
    "dictList\n"
   ]
  },
  {
   "cell_type": "code",
   "execution_count": 10,
   "metadata": {},
   "outputs": [
    {
     "data": {
      "text/html": [
       "<div>\n",
       "<style scoped>\n",
       "    .dataframe tbody tr th:only-of-type {\n",
       "        vertical-align: middle;\n",
       "    }\n",
       "\n",
       "    .dataframe tbody tr th {\n",
       "        vertical-align: top;\n",
       "    }\n",
       "\n",
       "    .dataframe thead th {\n",
       "        text-align: right;\n",
       "    }\n",
       "</style>\n",
       "<table border=\"1\" class=\"dataframe\">\n",
       "  <thead>\n",
       "    <tr style=\"text-align: right;\">\n",
       "      <th></th>\n",
       "      <th>gene_AGEA_id</th>\n",
       "      <th>gene_entrez_id</th>\n",
       "      <th>gene_name</th>\n",
       "      <th>spearman_rho</th>\n",
       "      <th>p_value</th>\n",
       "      <th>FDR</th>\n",
       "      <th>adjusted p_value (bonferroni)</th>\n",
       "    </tr>\n",
       "    <tr>\n",
       "      <th>gene_acronym</th>\n",
       "      <th></th>\n",
       "      <th></th>\n",
       "      <th></th>\n",
       "      <th></th>\n",
       "      <th></th>\n",
       "      <th></th>\n",
       "      <th></th>\n",
       "    </tr>\n",
       "  </thead>\n",
       "  <tbody>\n",
       "    <tr>\n",
       "      <th>Adssl1</th>\n",
       "      <td>11352</td>\n",
       "      <td>11565.0</td>\n",
       "      <td>adenylosuccinate synthetase like 1</td>\n",
       "      <td>0.632670</td>\n",
       "      <td>2.224075e-32</td>\n",
       "      <td>3.923046e-28</td>\n",
       "      <td>3.923046e-28</td>\n",
       "    </tr>\n",
       "    <tr>\n",
       "      <th>Lifr</th>\n",
       "      <td>16651</td>\n",
       "      <td>16880.0</td>\n",
       "      <td>leukemia inhibitory factor receptor</td>\n",
       "      <td>0.609203</td>\n",
       "      <td>1.573082e-29</td>\n",
       "      <td>1.387380e-25</td>\n",
       "      <td>2.774760e-25</td>\n",
       "    </tr>\n",
       "    <tr>\n",
       "      <th>Pnkd</th>\n",
       "      <td>35974</td>\n",
       "      <td>56695.0</td>\n",
       "      <td>paroxysmal nonkinesiogenic dyskinesia</td>\n",
       "      <td>0.607231</td>\n",
       "      <td>2.663811e-29</td>\n",
       "      <td>1.566232e-25</td>\n",
       "      <td>4.698697e-25</td>\n",
       "    </tr>\n",
       "    <tr>\n",
       "      <th>Fam43a</th>\n",
       "      <td>86045</td>\n",
       "      <td>224093.0</td>\n",
       "      <td>family with sequence similarity 43, member A</td>\n",
       "      <td>0.573612</td>\n",
       "      <td>1.235043e-25</td>\n",
       "      <td>5.446230e-22</td>\n",
       "      <td>2.178492e-21</td>\n",
       "    </tr>\n",
       "    <tr>\n",
       "      <th>Acan</th>\n",
       "      <td>11382</td>\n",
       "      <td>11595.0</td>\n",
       "      <td>aggrecan</td>\n",
       "      <td>0.571899</td>\n",
       "      <td>1.850719e-25</td>\n",
       "      <td>6.528966e-22</td>\n",
       "      <td>3.264483e-21</td>\n",
       "    </tr>\n",
       "    <tr>\n",
       "      <th>...</th>\n",
       "      <td>...</td>\n",
       "      <td>...</td>\n",
       "      <td>...</td>\n",
       "      <td>...</td>\n",
       "      <td>...</td>\n",
       "      <td>...</td>\n",
       "      <td>...</td>\n",
       "    </tr>\n",
       "    <tr>\n",
       "      <th>Pdlim1</th>\n",
       "      <td>33425</td>\n",
       "      <td>54132.0</td>\n",
       "      <td>PDZ and LIM domain 1 (elfin)</td>\n",
       "      <td>NaN</td>\n",
       "      <td>1.000000e+00</td>\n",
       "      <td>1.000000e+00</td>\n",
       "      <td>1.763900e+04</td>\n",
       "    </tr>\n",
       "    <tr>\n",
       "      <th>Tmem50b</th>\n",
       "      <td>53815</td>\n",
       "      <td>77975.0</td>\n",
       "      <td>transmembrane protein 50B</td>\n",
       "      <td>NaN</td>\n",
       "      <td>1.000000e+00</td>\n",
       "      <td>1.000000e+00</td>\n",
       "      <td>1.763900e+04</td>\n",
       "    </tr>\n",
       "    <tr>\n",
       "      <th>Pla1a</th>\n",
       "      <td>59218</td>\n",
       "      <td>85031.0</td>\n",
       "      <td>phospholipase A1 member A</td>\n",
       "      <td>NaN</td>\n",
       "      <td>1.000000e+00</td>\n",
       "      <td>1.000000e+00</td>\n",
       "      <td>1.763900e+04</td>\n",
       "    </tr>\n",
       "    <tr>\n",
       "      <th>Sardh</th>\n",
       "      <td>82817</td>\n",
       "      <td>192166.0</td>\n",
       "      <td>sarcosine dehydrogenase</td>\n",
       "      <td>NaN</td>\n",
       "      <td>1.000000e+00</td>\n",
       "      <td>1.000000e+00</td>\n",
       "      <td>1.763900e+04</td>\n",
       "    </tr>\n",
       "    <tr>\n",
       "      <th>Dsg1b</th>\n",
       "      <td>86223</td>\n",
       "      <td>225256.0</td>\n",
       "      <td>desmoglein 1 beta</td>\n",
       "      <td>NaN</td>\n",
       "      <td>1.000000e+00</td>\n",
       "      <td>1.000000e+00</td>\n",
       "      <td>1.763900e+04</td>\n",
       "    </tr>\n",
       "  </tbody>\n",
       "</table>\n",
       "<p>17639 rows × 7 columns</p>\n",
       "</div>"
      ],
      "text/plain": [
       "              gene_AGEA_id  gene_entrez_id  \\\n",
       "gene_acronym                                 \n",
       "Adssl1               11352         11565.0   \n",
       "Lifr                 16651         16880.0   \n",
       "Pnkd                 35974         56695.0   \n",
       "Fam43a               86045        224093.0   \n",
       "Acan                 11382         11595.0   \n",
       "...                    ...             ...   \n",
       "Pdlim1               33425         54132.0   \n",
       "Tmem50b              53815         77975.0   \n",
       "Pla1a                59218         85031.0   \n",
       "Sardh                82817        192166.0   \n",
       "Dsg1b                86223        225256.0   \n",
       "\n",
       "                                                 gene_name  spearman_rho  \\\n",
       "gene_acronym                                                               \n",
       "Adssl1                  adenylosuccinate synthetase like 1      0.632670   \n",
       "Lifr                   leukemia inhibitory factor receptor      0.609203   \n",
       "Pnkd                 paroxysmal nonkinesiogenic dyskinesia      0.607231   \n",
       "Fam43a        family with sequence similarity 43, member A      0.573612   \n",
       "Acan                                              aggrecan      0.571899   \n",
       "...                                                    ...           ...   \n",
       "Pdlim1                        PDZ and LIM domain 1 (elfin)           NaN   \n",
       "Tmem50b                          transmembrane protein 50B           NaN   \n",
       "Pla1a                            phospholipase A1 member A           NaN   \n",
       "Sardh                              sarcosine dehydrogenase           NaN   \n",
       "Dsg1b                                    desmoglein 1 beta           NaN   \n",
       "\n",
       "                   p_value           FDR  adjusted p_value (bonferroni)  \n",
       "gene_acronym                                                             \n",
       "Adssl1        2.224075e-32  3.923046e-28                   3.923046e-28  \n",
       "Lifr          1.573082e-29  1.387380e-25                   2.774760e-25  \n",
       "Pnkd          2.663811e-29  1.566232e-25                   4.698697e-25  \n",
       "Fam43a        1.235043e-25  5.446230e-22                   2.178492e-21  \n",
       "Acan          1.850719e-25  6.528966e-22                   3.264483e-21  \n",
       "...                    ...           ...                            ...  \n",
       "Pdlim1        1.000000e+00  1.000000e+00                   1.763900e+04  \n",
       "Tmem50b       1.000000e+00  1.000000e+00                   1.763900e+04  \n",
       "Pla1a         1.000000e+00  1.000000e+00                   1.763900e+04  \n",
       "Sardh         1.000000e+00  1.000000e+00                   1.763900e+04  \n",
       "Dsg1b         1.000000e+00  1.000000e+00                   1.763900e+04  \n",
       "\n",
       "[17639 rows x 7 columns]"
      ]
     },
     "execution_count": 10,
     "metadata": {},
     "output_type": "execute_result"
    }
   ],
   "source": [
    "df"
   ]
  },
  {
   "cell_type": "code",
   "execution_count": 27,
   "metadata": {},
   "outputs": [
    {
     "data": {
      "text/html": [
       "<div>\n",
       "<style scoped>\n",
       "    .dataframe tbody tr th:only-of-type {\n",
       "        vertical-align: middle;\n",
       "    }\n",
       "\n",
       "    .dataframe tbody tr th {\n",
       "        vertical-align: top;\n",
       "    }\n",
       "\n",
       "    .dataframe thead th {\n",
       "        text-align: right;\n",
       "    }\n",
       "</style>\n",
       "<table border=\"1\" class=\"dataframe\">\n",
       "  <thead>\n",
       "    <tr style=\"text-align: right;\">\n",
       "      <th></th>\n",
       "      <th>energy</th>\n",
       "      <th>11140.0</th>\n",
       "    </tr>\n",
       "  </thead>\n",
       "  <tbody>\n",
       "    <tr>\n",
       "      <th>184</th>\n",
       "      <td>1.178936</td>\n",
       "      <td>1.264680</td>\n",
       "    </tr>\n",
       "    <tr>\n",
       "      <th>985</th>\n",
       "      <td>1.185993</td>\n",
       "      <td>0.758946</td>\n",
       "    </tr>\n",
       "    <tr>\n",
       "      <th>993</th>\n",
       "      <td>0.960004</td>\n",
       "      <td>0.735843</td>\n",
       "    </tr>\n",
       "    <tr>\n",
       "      <th>353</th>\n",
       "      <td>2.884739</td>\n",
       "      <td>0.632790</td>\n",
       "    </tr>\n",
       "    <tr>\n",
       "      <th>329</th>\n",
       "      <td>2.445807</td>\n",
       "      <td>0.544552</td>\n",
       "    </tr>\n",
       "    <tr>\n",
       "      <th>...</th>\n",
       "      <td>...</td>\n",
       "      <td>...</td>\n",
       "    </tr>\n",
       "    <tr>\n",
       "      <th>91</th>\n",
       "      <td>4.722340</td>\n",
       "      <td>0.769895</td>\n",
       "    </tr>\n",
       "    <tr>\n",
       "      <th>846</th>\n",
       "      <td>4.308272</td>\n",
       "      <td>0.886037</td>\n",
       "    </tr>\n",
       "    <tr>\n",
       "      <th>589508455</th>\n",
       "      <td>2.633070</td>\n",
       "      <td>NaN</td>\n",
       "    </tr>\n",
       "    <tr>\n",
       "      <th>1009</th>\n",
       "      <td>0.231939</td>\n",
       "      <td>NaN</td>\n",
       "    </tr>\n",
       "    <tr>\n",
       "      <th>395</th>\n",
       "      <td>NaN</td>\n",
       "      <td>0.644136</td>\n",
       "    </tr>\n",
       "  </tbody>\n",
       "</table>\n",
       "<p>316 rows × 2 columns</p>\n",
       "</div>"
      ],
      "text/plain": [
       "             energy   11140.0\n",
       "184        1.178936  1.264680\n",
       "985        1.185993  0.758946\n",
       "993        0.960004  0.735843\n",
       "353        2.884739  0.632790\n",
       "329        2.445807  0.544552\n",
       "...             ...       ...\n",
       "91         4.722340  0.769895\n",
       "846        4.308272  0.886037\n",
       "589508455  2.633070       NaN\n",
       "1009       0.231939       NaN\n",
       "395             NaN  0.644136\n",
       "\n",
       "[316 rows x 2 columns]"
      ]
     },
     "execution_count": 27,
     "metadata": {},
     "output_type": "execute_result"
    }
   ],
   "source": [
    "pd.concat([wfa['energy'], ish_en.loc[11140]], axis=1)"
   ]
  },
  {
   "cell_type": "code",
   "execution_count": 3,
   "metadata": {},
   "outputs": [
    {
     "data": {
      "text/plain": [
       "coarse  coarse_acro   mid        mid_acro    \n",
       "315     Isocortex     184        FRP             1.178936\n",
       "                      985        MOp             1.185993\n",
       "                      993        MOs             0.960004\n",
       "                      353        SSp-n           2.884739\n",
       "                      329        SSp-bfd         2.445807\n",
       "                                                   ...   \n",
       "512     CB            989        FN              3.975008\n",
       "                      91         IP              4.722340\n",
       "                      846        DN              4.308272\n",
       "                      589508455  VeCB            2.633070\n",
       "1009    fiber tracts  1009       fiber tracts    0.231939\n",
       "Length: 315, dtype: float64"
      ]
     },
     "execution_count": 3,
     "metadata": {},
     "output_type": "execute_result"
    }
   ],
   "source": [
    "energy = dfDict['mid'].xs('energy', axis=1,level='params')\n",
    "\n",
    "mean = energy.mean(axis=1)\n",
    "mean"
   ]
  },
  {
   "cell_type": "code",
   "execution_count": 39,
   "metadata": {},
   "outputs": [
    {
     "data": {
      "text/plain": [
       "'rgb(1.0,0.9607843137254902,0.9411764705882353)'"
      ]
     },
     "execution_count": 39,
     "metadata": {},
     "output_type": "execute_result"
    }
   ],
   "source": [
    "import matplotlib as mpl\n",
    "from matplotlib import cm\n",
    "norm = mpl.colors.Normalize(vmin=0, vmax=3, clip=False)\n",
    "\n",
    "mapper = cm.ScalarMappable(norm=norm, cmap='Reds')\n",
    "rgb = mapper.to_rgba(mean)\n",
    "\n",
    "\n",
    "res = pd.DataFrame(data=mean, columns=['Mean'])\n",
    "res['rgb'] = [(x[0],x[1],x[2]) for x in rgb]\n",
    "rgb = [f'rgb({x[0]},{x[1]},{x[2]})' for x in rgb]\n",
    "res['color'] = rgb\n",
    "res.index = res.index.droplevel(['coarse', 'coarse_acro','mid'])\n",
    "\n",
    "\n",
    "res.loc['PO'].color"
   ]
  }
 ],
 "metadata": {
  "kernelspec": {
   "display_name": "pnnatlas",
   "language": "python",
   "name": "python3"
  },
  "language_info": {
   "codemirror_mode": {
    "name": "ipython",
    "version": 3
   },
   "file_extension": ".py",
   "mimetype": "text/x-python",
   "name": "python",
   "nbconvert_exporter": "python",
   "pygments_lexer": "ipython3",
   "version": "3.10.0"
  },
  "orig_nbformat": 4,
  "vscode": {
   "interpreter": {
    "hash": "7ba651b37333fc731bb77158be998e8ac05ae537778017ff8986b6ce1181d73d"
   }
  }
 },
 "nbformat": 4,
 "nbformat_minor": 2
}
